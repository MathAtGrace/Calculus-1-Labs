{
 "cells": [
  {
   "cell_type": "markdown",
   "metadata": {},
   "source": [
    "# Lab 1\n",
    "\n",
    "### Review of high school math\n",
    "\n",
    "For labs, you allowed to use any tools available to you.  For intance, if you don't have the speed of sound memorized (who doesn't?) you can feel free to Google it.\n",
    "\n",
    "However, you must show all your work and cite your sources for full credit."
   ]
  },
  {
   "cell_type": "markdown",
   "metadata": {},
   "source": [
    "### Question 1: Review of Geometry and Trigonometry.\n",
    "\n",
    "![geometry puzzle](images/geo-puzzle.PNG)"
   ]
  },
  {
   "cell_type": "markdown",
   "metadata": {},
   "source": [
    "### Question 2: Review of Rates and Unit Conversion\n",
    "\n",
    "You are out and about frolicking in nature, when you suddenly see dark clouds.  You see lighting strike some distance off, and exactly 7.3 seconds later you hear thunder.  How far away was the lightning strike?  Provide your answer in miles."
   ]
  },
  {
   "cell_type": "markdown",
   "metadata": {},
   "source": [
    "### Question 3: Review of Trigonometry and Problem Solving\n",
    "\n",
    "How tall is the steeple on top of McClain from the ground?"
   ]
  },
  {
   "cell_type": "markdown",
   "metadata": {},
   "source": [
    "### Question 4: Review of Linear Functions.\n",
    "\n",
    "Use two points on a thermometer to find an equation that converts temperature from F to C."
   ]
  },
  {
   "cell_type": "markdown",
   "metadata": {},
   "source": [
    "### Question 5: Review of geometry and prelude to optimization\n",
    "\n",
    "Grab a piece of computer paper.  With this paper, cut squares out of each of the corners and make a box by folding up the edges.  How much should you cut out to give you the maximum volume?  You will need a ruler, scissors, and tape.\n",
    "\n",
    "This question will be graded on how close you come to the optimum volume and your perceived effort."
   ]
  }
 ],
 "metadata": {
  "kernelspec": {
   "display_name": "SageMath 9.0",
   "language": "sage",
   "name": "sagemath"
  },
  "language_info": {
   "codemirror_mode": {
    "name": "ipython",
    "version": 3
   },
   "file_extension": ".py",
   "mimetype": "text/x-python",
   "name": "python",
   "nbconvert_exporter": "python",
   "pygments_lexer": "ipython3",
   "version": "3.7.3"
  }
 },
 "nbformat": 4,
 "nbformat_minor": 2
}
