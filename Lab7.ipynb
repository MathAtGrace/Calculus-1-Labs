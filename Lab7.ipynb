{
 "cells": [
  {
   "cell_type": "markdown",
   "metadata": {},
   "source": [
    "# Lab 7\n",
    "### Learning More about Sage and Jupyter Worksheets"
   ]
  },
  {
   "cell_type": "markdown",
   "metadata": {},
   "source": [
    "### Question 1:\n",
    "Create a Markdown cell and type a couple sentences.  Included at least one heading, at least one word in **bold**, at least one word in *italics*, and at least one list, which can be ordered or unordered.  Feel free to write about yourself, a favorite topic, a joke, or anything else that comes to mind.\n",
    "\n",
    "You can turn a cell into a Markdown cell with this drop-down menu. ![Markdown](images/sage-markdown.PNG)  For help with Markdown syntax, take a look at this Markdown [cheatsheat](https://www.markdownguide.org/cheat-sheet/).\n",
    "\n",
    "If you're doing this online on CoCalc, look for the \"Jupyter\" button to turn your worksheet into a Jupyter Notebook like the rest of the class."
   ]
  },
  {
   "cell_type": "code",
   "execution_count": null,
   "metadata": {},
   "outputs": [],
   "source": []
  },
  {
   "cell_type": "markdown",
   "metadata": {},
   "source": [
    "### Question 2\n",
    "Use Sage to compute $\\pi^e + 2 \\cdot 8$\n",
    "\n",
    "In Sage, `pi` $= \\pi$, `e` $= e$, `^` is the symbol for exponent, `*` is the symbol for multiplication, and `n( stuff )` or `( stuff ).n()` computes the numeric answer."
   ]
  },
  {
   "cell_type": "code",
   "execution_count": null,
   "metadata": {},
   "outputs": [],
   "source": []
  },
  {
   "cell_type": "markdown",
   "metadata": {},
   "source": [
    "### Question 3\n",
    "Use Sage to solve the equation $x^5 + 3x^4 - 5x^3 - 15x^2 + 4x + 12 = 0$ for $x$.\n",
    "\n",
    "To define a variable, use `x = var('x')`.  To solve an equation, use `solve(left-hand-side == right-hand-side, variable name)`.  For example to solve $2x^2 = 8$ you could do\n",
    "```python\n",
    "x = var('x')\n",
    "solve(2*x^2 == 8, x)\n",
    "```"
   ]
  },
  {
   "cell_type": "code",
   "execution_count": null,
   "metadata": {},
   "outputs": [],
   "source": []
  },
  {
   "cell_type": "markdown",
   "metadata": {},
   "source": [
    "### Question 4\n",
    "Use Sage to find the derivative of $f(x) = \\dfrac{\\sin(x)e^x}{x^2}$.\n",
    "\n",
    "To calculate the derivative, you first need to define a variable, but you probably already did this above.  If you have restarted your worksheet since running the cell that defines x, run the cell with `x = var('x')` again.  Otherwise, do nothing.\n",
    "\n",
    "Next, you'll need to define a function.  For example: `f = 2*x`.  Then type `f.der` and press the tab key.  Sage will autocomplete to `f.derivative`.  The derivative is a function of the object `f`, so you need to add parententhses `f.derivative()`.  This will give you the derivative.  If you find the answer hard to read, try `show(f.derivative())`."
   ]
  },
  {
   "cell_type": "code",
   "execution_count": null,
   "metadata": {},
   "outputs": [],
   "source": []
  },
  {
   "cell_type": "markdown",
   "metadata": {},
   "source": [
    "### Question 5\n",
    "\n",
    "Mersenne primes are primes of the form $2^p -1$ where $p$ is a smaller prime.  However, it is not always the case that $2^p - 1$ will also be prime.  For instance, $2^{11} - 1$ is not prime.\n",
    "\n",
    "**a.** Show that $2^7 - 1$ is a Mersenne prime, but $2^{11} - 1$ is not by using `(2^p - 1).is_prime()` for `p=7` and `p=11`."
   ]
  },
  {
   "cell_type": "code",
   "execution_count": null,
   "metadata": {},
   "outputs": [],
   "source": []
  },
  {
   "cell_type": "markdown",
   "metadata": {},
   "source": [
    "Factoring is an operationt that gets much slower as numbers get beyond a certain size.  In fact,   To see this, run\n",
    "```python\n",
    "import time\n",
    "a = next_prime(floor(pi^600))\n",
    "start = time.time()\n",
    "a.is_prime()\n",
    "end = time.time()\n",
    "print(\"It took \" + str(end-start) + \" seconds to determine if 2^\" + str(p) + \"-1 = \" + str(a) + \" is prime\")\n",
    "```\n",
    "\n",
    "**b.** increase the `600` by 5's until it runs longer than 5 seconds on your computer.  If your computer runs more than 30 seconds with the `600`, then click on Kernel > Restart to restart Sage.  Then start from `500` and go up by 5's."
   ]
  },
  {
   "cell_type": "code",
   "execution_count": null,
   "metadata": {},
   "outputs": [],
   "source": []
  },
  {
   "cell_type": "markdown",
   "metadata": {},
   "source": [
    "Now, one might wonder if how many of the first 10 primes give us Mersenne primes?  We can use Sage to check.  For instance,\n",
    "```python\n",
    "P = Primes()\n",
    "p = P.unrank(3)\n",
    "print(p)\n",
    "```\n",
    "will give us the fourth prime (remember that Sage always starts counting with zero).  And\n",
    "```python\n",
    "q = 2^p - 1\n",
    "print(q, q.is_prime())\n",
    "```\n",
    "will tell us if it gives us a Mersenne prime\n",
    "\n",
    "**c.** Of the first 10 primes, which of them give us Mersenne primes, and what are the Mersenne primes?"
   ]
  },
  {
   "cell_type": "code",
   "execution_count": null,
   "metadata": {},
   "outputs": [],
   "source": []
  },
  {
   "cell_type": "markdown",
   "metadata": {},
   "source": [
    "To really harness the power of Sage, we can use lists from Python, the language that Sage is built on.  Lists so easy and powerful to use that we will use them regularly. We will use a fun made-up list for practice, the quote marks mean the items are just text, with no special mathematical meaning. Execute these compute cells as we work through them.\n",
    "```python\n",
    "zoo = ['snake', 'parrot', 'elephant', 'baboon', 'beetle']\n",
    "zoo\n",
    "```\n",
    "So the square brackets define the boundaries of our list, commas separate items, and we can give the list a name. To work with just one element of the list, we use the name and a pair of brackets with an index. Notice that lists have indices that begin counting at zero. This will seem odd at first and will seem very natural later.\n",
    "```python\n",
    "zoo[2]\n",
    "```\n",
    "We can add a new creature to the zoo, it is joined up at the far right end.\n",
    "```python\n",
    "zoo.append('ostrich'); zoo\n",
    "```\n",
    "A construction called a **list comprehension** is especially powerful, especially since it almost exactly mirrors notation we use to describe sets. Suppose we want to form the plural of the names of the creatures in our zoo. We build a new list, based on all of the elements of our old list.\n",
    "```python\n",
    "plurality_zoo = [animal+'s' for animal in zoo]\n",
    "plurality_zoo\n",
    "```\n",
    "Another example of list comprehension is\n",
    "```python\n",
    "P = Primes()\n",
    "[(P.unrank(i)+1)/2 for i in range(10)]\n",
    "```\n",
    "This creates a list of the first 10 primes, but with 1 added and then that number divided by 2.\n",
    "\n",
    "**d.** Use list comprehension to create a list of $(2^p - 1)$ where $p$ runs over the first 10 primes.  Then use the `.is_prime()` function to make a second list of `True` and `False` values that tell us which are Mersenne primes."
   ]
  },
  {
   "cell_type": "code",
   "execution_count": null,
   "metadata": {},
   "outputs": [],
   "source": []
  },
  {
   "cell_type": "markdown",
   "metadata": {},
   "source": [
    "If you ask Sage to add, subtract, multiply, or divide `True` or `False` values, it will treat `True` like a `1`, and `False` like a `0`.\n",
    "\n",
    "**e.** Try putting `sum()` around your second list from part *d.* to count the Mersenne primes.  Then do it again, but instead of `range(10)`, try `range(350)`.  This may take a while for your computer to do.  While you're waiting, make a guess about what the answer will be.  If you're still waiting, trying doing question 7 below.  You don't need your computer to solve that question."
   ]
  },
  {
   "cell_type": "code",
   "execution_count": null,
   "metadata": {},
   "outputs": [],
   "source": []
  },
  {
   "cell_type": "markdown",
   "metadata": {},
   "source": [
    "### Question 6\n",
    "\n",
    "Let $f(x) = x^2$.  If $f$ is shifted down 4, right 3, and then stretched horizontally by a factor of 2, and then reflected over the $x$-axis, what is the new function?  Plot the each step.\n",
    "\n",
    "Recall that `plot(2*x-1, (-5,5))` plots a function `2*x-1` (assuming you've defined `x` to be a variable already) with domain -5 to 5."
   ]
  },
  {
   "cell_type": "code",
   "execution_count": null,
   "metadata": {},
   "outputs": [],
   "source": []
  },
  {
   "cell_type": "markdown",
   "metadata": {},
   "source": [
    "### Question 7\n",
    "\n",
    "In one day, the Grace College store sold 45 sweatshirts.  Hoodies sell for \\$15 dollars.  Crewnecks sell for \\$10.  In all, the Grace College store sold \\$570 worth of sweatshirts.  How much of each did they sell?"
   ]
  },
  {
   "cell_type": "code",
   "execution_count": null,
   "metadata": {},
   "outputs": [],
   "source": []
  }
 ],
 "metadata": {
  "kernelspec": {
   "display_name": "SageMath 9.0",
   "language": "sage",
   "name": "sagemath"
  },
  "language_info": {
   "codemirror_mode": {
    "name": "ipython",
    "version": 3
   },
   "file_extension": ".py",
   "mimetype": "text/x-python",
   "name": "python",
   "nbconvert_exporter": "python",
   "pygments_lexer": "ipython3",
   "version": "3.7.3"
  }
 },
 "nbformat": 4,
 "nbformat_minor": 2
}
