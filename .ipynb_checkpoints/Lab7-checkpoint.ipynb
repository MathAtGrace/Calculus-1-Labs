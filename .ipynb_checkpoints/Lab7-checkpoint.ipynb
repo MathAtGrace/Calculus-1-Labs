{
 "cells": [
  {
   "cell_type": "markdown",
   "metadata": {},
   "source": [
    "# Lab 7\n",
    "### Learning More about Sage and Jupyter Worksheets"
   ]
  },
  {
   "cell_type": "markdown",
   "metadata": {},
   "source": [
    "### Question 1:\n",
    "Create a Markdown cell and type a couple sentences.  Included at least one heading, at least one word in **bold**, at least one word in *italics*, and at least one list, which can be ordered or unordered.  Feel free to write about yourself, a favorite topic, a joke, or anything else that comes to mind.\n",
    "\n",
    "You can turn a cell into a Markdown cell with this drop-down menu. ![Markdown](images/sage-markdown.PNG)"
   ]
  },
  {
   "cell_type": "code",
   "execution_count": null,
   "metadata": {},
   "outputs": [],
   "source": []
  },
  {
   "cell_type": "markdown",
   "metadata": {},
   "source": [
    "### Question 2\n",
    "Use Sage to compute $\\pi^e + 2 \\cdot 8$\n",
    "\n",
    "In Sage, `pi` $= \\pi$, `e` $= e$, `*` is the symbol for multiplication, and `n( stuff )` or `( stuff ).n()` computes the numeric answer."
   ]
  },
  {
   "cell_type": "code",
   "execution_count": null,
   "metadata": {},
   "outputs": [],
   "source": []
  },
  {
   "cell_type": "markdown",
   "metadata": {},
   "source": [
    "### Question 3\n",
    "Use Sage to solve the equation $x^5 + 3x^4 - 5x^3 - 15x^2 + 4x + 12 = 0$ for x.\n",
    "\n",
    "To define a variable, use `x = var('x')`.  To solve an equation, use `solve(left-hand-side == right-hand-side, variable name)`.  For example to solve $x^2 = 4$ your first line would be `x = var('x')` and your second line would be `solve(x^2 == 4, x)`"
   ]
  },
  {
   "cell_type": "code",
   "execution_count": null,
   "metadata": {},
   "outputs": [],
   "source": []
  },
  {
   "cell_type": "markdown",
   "metadata": {},
   "source": [
    "### Question 4\n",
    "Use Sage to find the derivative of $f(x) = \\dfrac{\\sin(x)e^x}{x^2}$.\n",
    "\n",
    "To calculate the derivative, you first need to define a variable, but you probably already did this above.  If you have restarted your worksheet since running the cell that defines x, run the cell with `x = var('x')` again.  Otherwise, do nothing.\n",
    "\n",
    "Next, you'll need to define a function.  For example: `f = 2*x`.  Then type `f.der` and press the tab key.  Sage will autocomplete to `f.derivative`.  The derivative is a function of the object `f`, so you need to add parententhses `f.derivative()`.  This will give you the derivative.  If you find the answer hard to read, try `show(f.derivative())`."
   ]
  },
  {
   "cell_type": "code",
   "execution_count": null,
   "metadata": {},
   "outputs": [],
   "source": []
  },
  {
   "cell_type": "code",
   "execution_count": 23,
   "metadata": {},
   "outputs": [
    {
     "data": {
      "text/plain": [
       "x^5 + 3*x^4 - 5*x^3 - 15*x^2 + 4*x + 12"
      ]
     },
     "execution_count": 23,
     "metadata": {},
     "output_type": "execute_result"
    }
   ],
   "source": [
    "expand((x-1)*(x+2)*(x+1)*(x-2)*(x+3))"
   ]
  },
  {
   "cell_type": "code",
   "execution_count": null,
   "metadata": {},
   "outputs": [],
   "source": [
    "f.der"
   ]
  }
 ],
 "metadata": {
  "kernelspec": {
   "display_name": "SageMath 9.0",
   "language": "sage",
   "name": "sagemath"
  },
  "language_info": {
   "codemirror_mode": {
    "name": "ipython",
    "version": 3
   },
   "file_extension": ".py",
   "mimetype": "text/x-python",
   "name": "python",
   "nbconvert_exporter": "python",
   "pygments_lexer": "ipython3",
   "version": "3.7.3"
  }
 },
 "nbformat": 4,
 "nbformat_minor": 2
}
