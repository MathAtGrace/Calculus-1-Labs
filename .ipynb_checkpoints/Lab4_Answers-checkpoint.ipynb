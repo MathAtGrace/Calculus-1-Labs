{
 "cells": [
  {
   "cell_type": "markdown",
   "metadata": {},
   "source": [
    "# Lab 4"
   ]
  },
  {
   "cell_type": "markdown",
   "metadata": {},
   "source": [
    "### Problem 1\n",
    "Find the equation of the two tangent lines that are tangent to f(x)=x^2 and both go through the point (1,-3)."
   ]
  },
  {
   "cell_type": "code",
   "execution_count": null,
   "metadata": {},
   "outputs": [],
   "source": []
  },
  {
   "cell_type": "markdown",
   "metadata": {},
   "source": [
    "---\n",
    "\n",
    "<br>\n",
    "\n",
    "For the next two problems, use the formula\n",
    "$$ y = h + v_0 \\cdot t - \\frac{9.8}{2}t^2$$\n",
    "for modeling fall objects, where $t$ is time in seconds from when the object is dropped or thrown, $y$ is the height of the object with respect to time, $h$ is the initial height of the object, and $v_0$ is the initial upward velocity of the object.\n",
    "\n",
    "If the object is dropped, $v_0$ will be zero, and if the object is thrown downwards, $v_0$ will be negative.  This equation is for meters.  To change it to feet, change $9.8 m/s^2$ to $32 ft/s^2$."
   ]
  },
  {
   "cell_type": "markdown",
   "metadata": {},
   "source": [
    "### Problem 2\n",
    "Just like Sir Isaac Newton, you are thinking about the concept of gravity.  Calculate the time it takes for a bouncy ball to reach the ground from these various heights when dropped:\n",
    "    \n",
    "    a. 12 m?\n",
    "\n",
    "    b. 4 m?\n",
    "\n",
    "    c. 8 m?\n",
    "   \n",
    "Then estimate the time it would take a bouncy ball to reach the ground from 100 m.\n",
    "   \n",
    "   Hint: Gravity is 9.8 m/s².  Drop the bouncy ball and see how close the calculated time is at the heights provided in a, b, and c.  Write a paragraph and explain why the calculated is different than the timed amount.\n",
    "\n",
    "<br>\n",
    "\n",
    "### Problem 3\n",
    "You are a scientist studying the Kilauea volcano in Hawaii, which is the world’s most continuously active volcano.  Very active volcanoes characteristically eject red-hot rocks and lava rather than smoke and ash.  As you watch the volcano from a safe distance with your friend, a reporter, you see that Kilauea ejects a giant rock through the air.  Being a good scientist, you have your stopwatch handy, and you see that the rock takes 17 seconds to fall back to earth.  You and your reporter friend go to examine the rock, and you see that it landed approximately 234 meters lower than the top of the volcano.  Your friend wants to write an article about what just happened, and they want to include in their article how high the rock went and how fast it was shot out of the volcano.  Use your formula for falling projectiles to determine how high the rock went.  Kilauea Volcano is 1247 meters above sea level.\n",
    "\n",
    "<br> \n",
    "\n",
    "![pic](images/kilauea.jpg)"
   ]
  },
  {
   "cell_type": "code",
   "execution_count": null,
   "metadata": {},
   "outputs": [],
   "source": []
  }
 ],
 "metadata": {
  "kernelspec": {
   "display_name": "SageMath 9.0",
   "language": "sage",
   "name": "sagemath"
  },
  "language_info": {
   "codemirror_mode": {
    "name": "ipython",
    "version": 3
   },
   "file_extension": ".py",
   "mimetype": "text/x-python",
   "name": "python",
   "nbconvert_exporter": "python",
   "pygments_lexer": "ipython3",
   "version": "3.7.3"
  }
 },
 "nbformat": 4,
 "nbformat_minor": 2
}
