{
 "cells": [
  {
   "cell_type": "markdown",
   "metadata": {
    "collapsed": false
   },
   "source": [
    "# Continuity\n",
    "\n",
    "Much of limit analysis relates to a concept known as continuity. A function is said to be continuous on an interval when the function is defined at every point on that interval and undergoes no interruptions, jumps, or breaks. If some function f(x) satisfies these criteria from x=a to x=b, for example, we say that f(x) is continuous on the interval [a, b]. The brackets mean that the interval is closed -- that it includes the endpoints a and b. In other words, that the interval is defined as a ≤ x ≤ b. An open interval (a, b), on the other hand, would not include endpoints a and b, and would be defined as a < x < b.\n",
    "\n",
    "Run the following cell to view a plot of sample function $f$."
   ]
  },
  {
   "cell_type": "code",
   "execution_count": 0,
   "metadata": {
    "collapsed": false
   },
   "outputs": [],
   "source": [
    "p1 = plot(x^2, x, 0, 1)\n",
    "p2 = plot(-x+2, x, 1, 2)\n",
    "p3 = plot(x^2-3*x+2, x, 2, 3)\n",
    "pt1 = point((0, 0), rgbcolor='black', pointsize=30)\n",
    "pt2 = point((3, 2), rgbcolor='black', pointsize=30)\n",
    "(p1+p2+p3+pt1+pt2).show(xmin=0, xmax=3, ymin=0, ymax=2)"
   ]
  },
  {
   "cell_type": "markdown",
   "metadata": {
    "collapsed": false
   },
   "source": [
    "$\\begin{align}\n",
    "f(x) = \\left\\{\\begin{aligned}\n",
    "&x^2, && 0 \\le x \\le 1\\\\\n",
    "&-x+2, && 1 \\le x \\le 2\\\\\n",
    "&x^2-3x+2, && 2 \\le x \\le 3\n",
    "\\end{aligned}\n",
    "\\right.\n",
    "\\end{align}$"
   ]
  },
  {
   "cell_type": "markdown",
   "metadata": {
    "collapsed": false
   },
   "source": [
    "The function f(x) in the graph is known as a piecewise function, or one that has multiple, well, pieces. As you can see, the function travels from x=0 to x=3 without interruption, and since the two endpoints are closed (designated by the filled-in black circles), f(x) is continuous on the closed interval [0, 3]. To think of it another way, if you can trace a function on an interval without picking up your pen (and without running over any holes), the function is continuous on that interval.\n",
    "\n",
    "Using our knowledge of limits from the previous lesson, we can say that:\n",
    "\n",
    "$\\begin{align}\\lim_{x \\to 1}{f(x)}=1 \\mbox{ and } \\lim_{x \\to 2}{f(x)}=0\\end{align}$\n",
    "\n",
    "## The Intermediate Value Theorem\n",
    "\n",
    "One of the more important theorems relating to continuous functions is the Intermediate Value Theorem, which states that if a function f is continuous on a closed interval [a, b] and k is any number between f(a) and f(b), then there must exist at least one number c such that f(c) = k. In other words, if f is continuous on [a, b], it must pass through every y-value bounded by f(a) and f(b). In the continuous function graphed above, for example, f(0) = 0 and f(3) = 2, so f(x) must pass through all y-values bounded by and including 0 and 2 on the interval [0, 3], which as one can see, it does.\n",
    "\n",
    "Look at this example, now, of a function that is not continuous on the interval for which it is shown.\n",
    "\n"
   ]
  },
  {
   "cell_type": "code",
   "execution_count": 18,
   "metadata": {
    "collapsed": false
   },
   "outputs": [
    {
     "data": {
      "image/png": "[encoded data removed]"
     },
     "execution_count": 18,
     "metadata": {},
     "output_type": "execute_result"
    }
   ],
   "source": [
    "p1 = plot(2*x, x, 0, 1)\n",
    "p2 = plot(-x+3, x, 1, 2)\n",
    "p3 = plot(-(x-3)^3+2, x, 2, 3)\n",
    "l1 = line([(1, 2.1), (1, 2.9)], linestyle='--')\n",
    "pt1 = point((0, 0), rgbcolor='black', pointsize=30)\n",
    "pt2 = point((1, 2), rgbcolor='white', faceted=True, pointsize=30)\n",
    "pt3 = point((1, 3), rgbcolor='black', pointsize=30)\n",
    "pt4 = point((2, 1), rgbcolor='black', pointsize=30)\n",
    "pt5 = point((2, 3), rgbcolor='white', faceted=True, pointsize=30)\n",
    "pt6 = point((3, 2), rgbcolor='black', pointsize=30)\n",
    "(p1+p2+p3+l1+pt1+pt2+pt3+pt4+pt5+pt6).show(xmin=0, xmax=3, ymin=0, ymax=3)"
   ]
  },
  {
   "cell_type": "markdown",
   "metadata": {
    "collapsed": false
   },
   "source": [
    "$\\begin{align}\n",
    "f(x) = \\left\\{\\begin{aligned}\n",
    "&2x, && 0 \\le x \\le 1\\\\\n",
    "&3, && x=1\\\\\n",
    "&-x+3, && 1 \\le x \\le 2\\\\\n",
    "&-(x-3)^3+2, && 2 \\le x \\le 3\n",
    "\\end{aligned}\n",
    "\\right.\n",
    "\\end{align}$\n",
    "\n",
    "The function shown in the graph is not continuous on the closed interval [0, 3], since it has discontinuities at both x=1 and x=2. A discontinuity is any x-value at which a function has an interruption, break or jump -- something that would require you to pick up your pen if you were tracing the function. The filled-in black circles, again, indicate that the interval includes that point, while the open circles indicate that the interval excludes that point. The dashed line at x=1 shows that f(1) = 3, not 2.\n",
    "\n",
    "Since the above graph has at least one discontinuity, it does not satisfy the requirements of the Intermediate Value Theorem and therefore does not have to pass through every y-value between f(0) and f(3).\n",
    "\n",
    "Even though f(1) = 3, however, the limit of f(x) as x approaches 1 does not equal 3, since the function approaches a value of 2 from both sides of x=1. But what about the limit of f(x) as x approaches 2? The function does not approach one specific value from either side of x=2, but we can still describe its behavior from the right or the left. This is the basis of one-sided limits, which is the topic of the next section.\n",
    "\n",
    "## Practice Problems\n",
    "\n",
    "Determine which of the following functions are continuous on the closed intervals for which they are shown. For functions that are not continuous, determine the x-coordinates of their discontinuities."
   ]
  },
  {
   "cell_type": "code",
   "execution_count": 21,
   "metadata": {
    "collapsed": false
   },
   "outputs": [
    {
     "data": {
      "image/png": "[encoded data removed]"
     },
     "execution_count": 21,
     "metadata": {},
     "output_type": "execute_result"
    }
   ],
   "source": [
    "# Just a note -- sin(x) transformed doesn't actually follow the same curve as x2\n",
    "p1 = plot((x+1)^2-1, x, -2, 0)\n",
    "p2 = plot(5/4*sin(pi*x/2), x, 0, 2)\n",
    "p3 = plot((x-3)^2-1, x, 2, 4)\n",
    "pt1 = point((-2, 0), rgbcolor='black', pointsize=30)\n",
    "pt2 = point((4, 0), rgbcolor='black', pointsize=30)\n",
    "(p1+p2+p3+pt1+pt2).show(title=\"problem 1\")"
   ]
  },
  {
   "cell_type": "code",
   "execution_count": 22,
   "metadata": {
    "collapsed": false
   },
   "outputs": [
    {
     "data": {
      "image/png": "[encoded data removed]"
     },
     "execution_count": 22,
     "metadata": {},
     "output_type": "execute_result"
    }
   ],
   "source": [
    "p = plot(tan(x), x, -pi, pi, randomize=False, plot_points=101)\n",
    "pt1 = point((-pi, 0), rgbcolor='black', pointsize=30)\n",
    "pt2 = point((pi, 0), rgbcolor='black', pointsize=30)\n",
    "(p+pt1+pt2).show(xmin=-pi, xmax=pi, ymin=-10, ymax=10, title=\"problem 2\")"
   ]
  },
  {
   "cell_type": "code",
   "execution_count": 23,
   "metadata": {
    "collapsed": false
   },
   "outputs": [
    {
     "data": {
      "image/png": "[encoded data removed]"
     },
     "execution_count": 23,
     "metadata": {},
     "output_type": "execute_result"
    }
   ],
   "source": [
    "# exp() means 'e to the ___'\n",
    "p1 = plot(exp(x/5)-1, x, 0, e)\n",
    "p2 = plot(ln(x), x, e, e^2)\n",
    "pt1 = point((0, 0), rgbcolor='black', pointsize=30)\n",
    "pt2 = point((e, exp(e/5)-1), rgbcolor='black', pointsize=30)\n",
    "pt3 = point((e, 1), faceted=True, rgbcolor='white', pointsize=30)\n",
    "pt4 = point((e^2, 2), rgbcolor='black', pointsize=30)\n",
    "(p1+p2+pt1+pt2+pt3+pt4).show(ymin=0, ymax=2, title='problem 3')"
   ]
  },
  {
   "cell_type": "markdown",
   "metadata": {
    "collapsed": false
   },
   "source": [
    "**For problems 4-6, determine the value or values of k that will make each function continuous on the given interval.**\n",
    "\n",
    "\n",
    "problem 4:\n",
    "\n",
    "$\\begin{align}\n",
    "f(x) = \\left\\{\\begin{aligned}\n",
    "&3x-2, && 0 \\le x \\le k\\\\\n",
    "&2x+3, && k \\le x \\le 6\n",
    "\\end{aligned}\n",
    "\\right.\n",
    "\\end{align}$\n"
   ]
  },
  {
   "cell_type": "markdown",
   "metadata": {
    "collapsed": false
   },
   "source": [
    "problem 5:\n",
    "\n",
    "$\\begin{align}\n",
    "f(x) = \\left\\{\\begin{aligned}\n",
    "&\\cos{x}, && 0 \\le x \\le \\frac{\\pi}{2}\\\\\n",
    "&\\sin{(x+k)}, && \\frac{\\pi}{2} \\le x \\le \\pi\n",
    "\\end{aligned}\n",
    "\\right.\n",
    "\\end{align}$"
   ]
  },
  {
   "cell_type": "markdown",
   "metadata": {
    "collapsed": false
   },
   "source": [
    "problem 6:\n",
    "\n",
    "$\\begin{align}\n",
    "f(x) = \\left\\{\\begin{aligned}\n",
    "&x^3-6x^2+kx=6, && 0 \\le x \\le 4\\\\\n",
    "&2x-13+k, && 4 \\le x \\le 6\n",
    "\\end{aligned}\n",
    "\\right.\n",
    "\\end{align}$\n",
    "\n",
    "_Note: As a SageMath-based way of checking your answers, you can use `solve(...==..., k)` to solve the given equation for k. For example, to solve for x when the expression x2-4*x+4 is equal to 0, you would use:_\n",
    "\n",
    "    solve(x^2-4*x+4==0, x)\n",
    "\n",
    "_Two equals signs (as used here) signifies a test for equality, while a single equals sign signifies assignment. For example, x==1 means 'does x equal 1?' whereas x=1 means 'assign 1 to x'._\n",
    "\n",
    "**For problems 7-9, use the Intermediate Value Theorem to demonstrate that a solution exists to each equation on the interval given.**\n",
    "\n",
    "problem 7:\n",
    "\n",
    "$\\begin{align}4x^3+2x^2-15x+4=50\\mbox{ on }\\left[1,3\\right]\\end{align}$"
   ]
  },
  {
   "cell_type": "markdown",
   "metadata": {
    "collapsed": false
   },
   "source": [
    "problem 8:\n",
    "\n",
    "$\\begin{align}\\cos{x}-\\sin{x}-x=2\\mbox{ on }\\left[-1,1\\right]\\end{align}$"
   ]
  },
  {
   "cell_type": "markdown",
   "metadata": {
    "collapsed": false
   },
   "source": [
    "problem 9:\n",
    "\n",
    "$\\begin{align}x^5=\\sqrt{x+3}\\mbox{ on }\\left[1,2\\right]\\end{align}$\n",
    "\n",
    "[Previous (Limits)](02-limits.ipynb)  <span style=\"float:right\">[Next (One-Sided Limits)](04-one-sided-limits.ipynb)</span>\n"
   ]
  },
  {
   "cell_type": "code",
   "execution_count": 0,
   "metadata": {
    "collapsed": false
   },
   "outputs": [],
   "source": []
  }
 ],
 "metadata": {
  "kernelspec": {
   "display_name": "SageMath (stable)",
   "name": "sagemath"
  },
  "language_info": {
   "codemirror_mode": {
    "name": "ipython",
    "version": 2
   },
   "file_extension": ".py",
   "mimetype": "text/x-python",
   "name": "python",
   "nbconvert_exporter": "python",
   "pygments_lexer": "ipython2",
   "version": "2.7.13"
  }
 },
 "nbformat": 4,
 "nbformat_minor": 0
}
