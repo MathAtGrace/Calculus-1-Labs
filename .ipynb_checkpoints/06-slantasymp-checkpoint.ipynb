{
 "cells": [
  {
   "cell_type": "markdown",
   "metadata": {
    "collapsed": false
   },
   "source": [
    "# Slant (Oblique) Asymptotes\n",
    "\n",
    "Depending on whether your calculus class covers this topic or not, you may wish to pass by this mini-section. If you find asymptotes interesting, though...keep on reading!\n",
    "\n",
    "So far, we have looked at the behavior of two types of functions as x approaches positive or negative infinity: those with horizontal asymptotes, and those that oscillate indefinitely. The third type we are going to cover is slant asymptotes. Also known as oblique asymptotes, slant asymptotes are invisible, diagonal lines suggested by a function's curve that approach a certain slope as x approaches positive or negative infinity. The following graph is one such function:\n",
    "\n",
    "<img src=\"../IMAGES/slantasymp01.png\">"
   ]
  },
  {
   "cell_type": "code",
   "execution_count": 0,
   "metadata": {
    "collapsed": false
   },
   "outputs": [],
   "source": [
    "plot((x^2-3*x-4)/(x-2), x, -10, 10, randomize=False, plot_points=101).show(ymin=-20, ymax=20)\n"
   ]
  },
  {
   "cell_type": "markdown",
   "metadata": {
    "collapsed": false
   },
   "source": [
    "It looks like f(x) starts to approach a certain slope rather than a certain y-value to both sides of the vertical asymptote. As in the last section, this function gives the suggestion of an invisible line separating the top and bottom portions of the graph. In this case, the invisible line is a slant asymptote. The question here is not of which value the function approaches, but of which slope it approaches as x becomes increasingly large or small. To answer this question, let's do a little numerical analysis. Evaluate the following code."
   ]
  },
  {
   "cell_type": "code",
   "execution_count": 0,
   "metadata": {
    "collapsed": false
   },
   "outputs": [],
   "source": [
    "def f(x):\n",
    "    return (x^2-3*x-4)/(x-2)\n",
    "\n",
    "for i in [4..100]:\n",
    "    print f(float(i))-f(float(i-1))"
   ]
  },
  {
   "cell_type": "markdown",
   "metadata": {
    "collapsed": false
   },
   "source": [
    "Based on the code's output, we can see that in the area of x=100, the function's slope is approximately equal to 1. Using SageMath's 'limit' function, we can confirm this result:"
   ]
  },
  {
   "cell_type": "code",
   "execution_count": 0,
   "metadata": {
    "collapsed": false
   },
   "outputs": [],
   "source": [
    "limit(f(x)-f(x-1), x=oo)\n"
   ]
  },
  {
   "cell_type": "markdown",
   "metadata": {
    "collapsed": false
   },
   "source": [
    "As expected, the limit of the function's slope as x approaches infinity is 1. A hunch would tell you that the function's slope as x approaches negative infinity is most likely 1 as well, and changing the x=oo to x=-oo verifies that result.\n",
    "\n",
    "Now that you've done things the hard way, though, I'll tell you a shortcut to find the slope of slant asymptotes for rational functions. For a generalized rational function like this one:\n",
    "\n",
    "$\\begin{align}f(x)=\\frac{ax^{n+1}+\\ldots}{bx^n+\\ldots}\\end{align}$\n",
    "\n",
    "If n is the highest power of the denominator, n+1 is the highest power of the numerator, and a and b are constants, the function will have a slant asymptote with a slope equal to a/b. You will find that slant asymptotes only pop up when the numerator of a function is of one higher power than the denominator of a rational function. Where numerical analysis can still come into play, though, in a case where you can't simplify a function to fit this general form.\n",
    "\n",
    "## Practice Problems\n",
    "\n",
    "Determine the slope, if possible, of each function as it approaches positive and negative infinity.\n",
    "\n",
    "$\\begin{align}\\mbox{1) }h(x)=\\frac{5x^3-2x}{x^2+1}\\end{align}$\n",
    "\n",
    "$\\begin{align}\\mbox{2) }g(x)=\\frac{1-\\sin^2{x}+x}{\\cos^2{x}}\\end{align}$\n",
    "\n",
    "$\\begin{align}\\mbox{3) Hint: simplify first. }h(x)=\\frac{1}{x}+x+\\frac{x^2-1}{x}+\\frac{x}{x^2-1}\\end{align}$\n",
    "\n",
    "[Previous (Limits)](05-inflimits.ipynb)  <span style=\"float:right\">[Next (Tangent Lines)](07-tangent.ipynb)</span>"
   ]
  },
  {
   "cell_type": "code",
   "execution_count": 0,
   "metadata": {
    "collapsed": false
   },
   "outputs": [],
   "source": []
  }
 ],
 "metadata": {
  "kernelspec": {
   "display_name": "SageMath (stable)",
   "name": "sagemath"
  },
  "language_info": {
   "codemirror_mode": {
    "name": "ipython",
    "version": 2
   },
   "file_extension": ".py",
   "mimetype": "text/x-python",
   "name": "python",
   "nbconvert_exporter": "python",
   "pygments_lexer": "ipython2",
   "version": "2.7.13"
  }
 },
 "nbformat": 4,
 "nbformat_minor": 0
}
