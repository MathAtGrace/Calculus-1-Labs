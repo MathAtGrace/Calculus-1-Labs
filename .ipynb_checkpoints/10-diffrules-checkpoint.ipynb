{
 "cells": [
  {
   "cell_type": "markdown",
   "metadata": {
    "collapsed": false
   },
   "source": [
    "## The Rules of Differentiation\n",
    "\n",
    "### Constant Rule\n",
    "\n",
    "$\\begin{align}\\mbox{If }f(x)=a\\mbox{ and }a\\mbox{ is a real number, then }f'(x)=0.\\end{align}$\n",
    "\n",
    "### Constant Multiple Rule\n",
    "\n",
    "$\\begin{align}\\mbox{If }f(x)=ax\\mbox{ and }a\\mbox{ is a real number, then }f'(x)=a.\\end{align}$\n",
    "\n",
    "### Power Rule\n",
    "\n",
    "$\\begin{align}\\mbox{If }f(x)=x^n\\mbox{ and }n\\mbox{ is a real number, then }f'(x)=nx^{n-1}.\\end{align}$\n",
    "\n",
    "### Product Rule\n",
    "\n",
    "$\\begin{align}\\mbox{If f and g are differentiable at x, then }\\left(f\\cdot g\\right)'(x)=f(x)g'(x)+g(x)f'(x)\\end{align}$\n",
    "\n",
    "### Quotient Rule\n",
    "\n",
    "$\\begin{align}\\mbox{If f is the quotient g(x)/h(x) and h(x) ≠ 0, then }\n",
    "f'(x)=\\frac{g'(x)h(x)-g(x)h'(x)}{\\left[h(x)\\right]^2}\\end{align}$\n",
    "\n",
    "### Chain Rule\n",
    "\n",
    "$\\begin{align}\\mbox{If g is differentiable at x and f is differentiable at g(x), then }\\left(f\\circ g\\right)'(x)=f'(g(x))g'(x)\\end{align}$\n",
    "\n",
    "[Previous (Differentiability)](09-differentiability.ipynb)\n"
   ]
  },
  {
   "cell_type": "code",
   "execution_count": 0,
   "metadata": {
    "collapsed": false
   },
   "outputs": [],
   "source": []
  }
 ],
 "metadata": {
  "kernelspec": {
   "display_name": "SageMath (stable)",
   "name": "sagemath"
  },
  "language_info": {
   "codemirror_mode": {
    "name": "ipython",
    "version": 2
   },
   "file_extension": ".py",
   "mimetype": "text/x-python",
   "name": "python",
   "nbconvert_exporter": "python",
   "pygments_lexer": "ipython2",
   "version": "2.7.13"
  }
 },
 "nbformat": 4,
 "nbformat_minor": 0
}
