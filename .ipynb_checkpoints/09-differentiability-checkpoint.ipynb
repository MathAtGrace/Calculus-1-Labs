{
 "cells": [
  {
   "cell_type": "markdown",
   "metadata": {
    "collapsed": false
   },
   "source": [
    "# Differentiability\n",
    "\n",
    "So far we have looked at derivatives outside of the notion of differentiability. The problem with this approach, though, is that some functions have one or many points or intervals where their derivatives are undefined. A function f is **differentiable** at a point c if\n",
    "\n",
    "$\\begin{align}\\lim_{h\\to 0}{\\frac{f(c+h)-f(c)}{h}}\\mbox{ exists.}\\end{align}$\n",
    "\n",
    "Similarly, f is differentiable on an open interval (a, b) if\n",
    "\n",
    "$\\begin{align}\\lim_{h\\to 0}{\\frac{f(c+h)-f(c)}{h}}\\mbox{ exists for every c in (a,b).}\\end{align}$\n",
    "\n",
    "Basically, f is differentiable at c if f'(c) is defined, by the above definition. Another point of note is that if f is differentiable at c, then f is continuous at c.\n",
    "\n",
    "Let's go through a few examples and discuss their differentiability. First, consider the following function.\n",
    "\n",
    "<img src=\"../IMAGES/differentiability02.png\">"
   ]
  },
  {
   "cell_type": "code",
   "execution_count": 0,
   "metadata": {
    "collapsed": false
   },
   "outputs": [],
   "source": [
    "plot(1/x^2, x, -5, 5).show(ymin=0, ymax=10)"
   ]
  },
  {
   "cell_type": "markdown",
   "metadata": {
    "collapsed": false
   },
   "source": [
    "To find the limit of the function's slope when the change in x is 0, we can either use the true definition of the derivative and do"
   ]
  },
  {
   "cell_type": "code",
   "execution_count": 0,
   "metadata": {
    "collapsed": false
   },
   "outputs": [],
   "source": [
    "def f(x):\n",
    "    return 1/x^2\n",
    "\n",
    "var('h')\n",
    "((f(x+h)-f(x))/h).rational_simplify().subs(h=0)"
   ]
  },
  {
   "cell_type": "markdown",
   "metadata": {
    "collapsed": false
   },
   "source": [
    "or we can simply use the rules of differentiation by calling `derivative(1/x^2, x)`. In any case, we find that\n",
    "\n",
    "$\\begin{align}f'(x)=-\\frac{2}{x^3}\\end{align}$\n",
    "\n",
    "Since f'(x) is undefined when x = 0 ($-2/0^2 = ?$), we say that f is not differentiable at x = 0. Since f'(x) is defined for every other x, we can say that f' is continuous on $(-\\infty, 0) \\cup (0, \\infty)$.\n",
    "\n",
    "How about a function that is everywhere continuous but is not everywhere differentiable? This occurs quite often with piecewise functions, since even though two intervals might be connected, the slope can change radically at their junction. Take a look at the function g(x) = |x|.\n",
    "\n",
    "<img src=\"../IMAGES/differentiability04.png\">"
   ]
  },
  {
   "cell_type": "code",
   "execution_count": 0,
   "metadata": {
    "collapsed": false
   },
   "outputs": [],
   "source": [
    "plot(abs(x), x, -5, 5)"
   ]
  },
  {
   "cell_type": "markdown",
   "metadata": {
    "collapsed": false
   },
   "source": [
    "Using our knowledge of what \"absolute value\" means, we can rewrite g(x) in the expanded form\n",
    "\n",
    "$\\begin{align}\n",
    "g(x) = \\left\\{\\begin{aligned}\n",
    "-&x, && x \\lt 0\\\\\n",
    "&0, && x = 0\\\\\n",
    "&x, && x \\gt 0\n",
    "\\end{aligned}\n",
    "\\right.\n",
    "\\end{align}$\n",
    "\n",
    "This should be easy to differentiate now; we get\n",
    "\n",
    "$\\begin{align}\n",
    "g'(x) = \\left\\{\\begin{aligned}\n",
    "-&1, && x \\lt 0\\\\\n",
    "&1, && x \\gt 0\n",
    "\\end{aligned}\n",
    "\\right.\n",
    "\\end{align}$\n",
    "\n",
    "What about at x = 0? The \"logical\" response would be to see that g(0) = 0 and say that g'(0) must therefore equal 0. Careful, though...looking back at the limit definition of the derivative, the derivative of f at a point c is the limit of the slope of f as the change in its independent variable approaches 0. Really, the only relevant piece of information is the behavior of function's slope close to c. Referring back to the example, since the limit of g'(x) as x approaches 0 from the left ≠ the limit of g'(x) as x approaches 0 from the right, g'(0) does not exist. We can use the limit definition of the derivative to prove this:\n",
    "\n",
    "$\\begin{align}g'(x)=\\lim_{h\\to 0}{\\frac{|x+h|-|x|}{h}}=\\lim_{h\\to 0}{\\frac{|x+h|-|x|}{h}}\n",
    "\\cdot\\frac{|x+h|+|x|}{|x+h|+|x|}=\\lim_{h\\to 0}{\\frac{x^2+2xh+h^2-x^2}{h(|x+h|+|x|)}}\\end{align}$\n",
    "\n",
    "$\\begin{align}=\\lim_{h\\to 0}{\\frac{2x}{|x+h|+|x|}}=\\frac{2x}{|2x|}=\\frac{x}{|x|}\\end{align}$\n",
    "\n",
    "The latter limit is undefined, because the limit expression has differing values for $h\\to 0^+$ and $h\\to 0^-$, i.e. for h approaching 0 from negative and from positive values.\n",
    "\n",
    "The third function of discussion has a couple of quirks--take a look.\n",
    "\n",
    "<img src=\"../IMAGES/differentiability12.png\">"
   ]
  },
  {
   "cell_type": "code",
   "execution_count": 0,
   "metadata": {
    "collapsed": false
   },
   "outputs": [],
   "source": [
    "p = plot(sqrt(x-2), x, 2, 5)\n",
    "pt1 = point((3, 1), rgbcolor=\"white\", pointsize=30, faceted=True)\n",
    "pt2 = point((3, 2), rgbcolor=\"black\", pointsize=30)\n",
    "l = line([(3, 1), (3, 2)], linestyle=\"--\")\n",
    "(p+pt1+pt2+l).show(xmin=0)"
   ]
  },
  {
   "cell_type": "markdown",
   "metadata": {
    "collapsed": false
   },
   "source": [
    "Not only is v(t) defined solely on $[2, \\infty)$, it has a jump discontinuity at t = 3. The jump discontinuity causes v'(t) to be undefined at t = 3; do you see why? Using a slightly modified limit definition of the derivative, think of what\n",
    "\n",
    "$\\begin{align}\\lim_{x\\to c}{\\frac{f(x)-f(c)}{x-c}}\\end{align}$\n",
    "\n",
    "would be for c = 3 and some x very close to 3. The resulting slope would be astronomically large either negatively or positively, right? In fact, the dashed line connecting v(t) for t ≠ 3 and v(3) is what the tangent line will look like at that point. Since a function's derivative cannot be infinitely large and still be considered to \"exist\" at that point, v is not differentiable at t=3.\n",
    "\n",
    "## The Mean Value Theorem\n",
    "\n",
    "The Mean Value Theorem is very important for the discussion of derivatives; even though it might seem somewhat obvious, it is actually very important to many other concepts in calculus. We'll start with an example.\n",
    "\n",
    "Consider the vast, seemingly endless state of Montana. Now, pretend that you are driving across Montana so that you can get to Washington, and you want to do so as quickly as possible. The problem, however, is that the signs posted every few miles explicitly state that the speed limit is 70 miles per hour. \"Oh well,\" you tell yourself. \"When I'm on the open road, I will go as fast as I want. When I approach a town, though, I will slow down so that the police are none the wiser.\"\n",
    "\n",
    "Since you had been staying with some relatives in the town of Springdale, you first head east at the brisk pace of 90 miles per hour until, feeling your stomach rumble (you really aren't cut out for these long drives), you stop in Livingston for some lunch. When you arrive, however, a policeman signals you to pull over! \"What did I do wrong?\" you sweetly ask the officer. Giving you a hard look, the policeman responds, \"Though I didn't actually see you speeding at any point on your way here, I know that you must have, since one of my buddies back in Livingston tells me that you left there only 10 minutes ago, and our two towns are about 15 miles apart. I won't cite you for it this time, but you'd better drive slower in the future.\"\n",
    "\n",
    "The question is: How did the policeman know you had been speeding? Well, since it took you 10 minutes to travel 15 miles, your average speed was 90 miles per hour. So either you traveled at exactly 90 miles per hour the entire time, or you traveled at more than 90 part of the way and less than ninety part of the way. In either case, you were going faster than the speed limit at some point in time.\n",
    "\n",
    "The Mean Value Theorem has a very similar message: if a function f is continuous on the closed interval [a, b] and is differentiable on the open interval (a, b), then there is some c in (a, b) such that\n",
    "\n",
    "$\\begin{align}f'(c)=\\frac{f(b)-f(a)}{b-a}\\end{align}$\n",
    "\n",
    "Basically, the average slope of f between a and b will equal the actual slope of f at some point between a and b. To illustrate the Mean Value Theorem, consider the function $f(x) = x\\sin{x}$ for x in [0, 9π/2]. Assume that f is differentiable on (0, 9π/2) (it is) and continuous on [0, 9π/2] (it is). By the Mean Value Theorem, there is at least one c in (0, 9π/2) such that\n",
    "\n",
    "$\\begin{align}f'(c)=\\frac{f(\\frac{9\\pi}{2})-f(0)}{\\frac{9\\pi}{2}-0}\n",
    "=\\frac{\\frac{9\\pi}{2}\\cdot\\sin{\\frac{9\\pi}{2}}-0\\cdot\\sin{0}}{\\frac{9\\pi}{2}-0}\n",
    "=\\sin{\\frac{9\\pi}{2}}=1\\end{align}$\n",
    "\n",
    "And such a c does exist, in fact. You can use SageMath's `solve` function to verify this:"
   ]
  },
  {
   "cell_type": "code",
   "execution_count": 0,
   "metadata": {
    "collapsed": false
   },
   "outputs": [],
   "source": [
    "solve(derivative(x*sin(x), x) == 0, x)"
   ]
  },
  {
   "cell_type": "markdown",
   "metadata": {
    "collapsed": false
   },
   "source": [
    "From the code's output, you can see that this is true whenever -sin(x)/cos(x) is 0. Thus c = 0, π, 2π, 3π, and 4π, so the Mean Value Theorem is satisfied for f on the interval [0, 9π/2].\n",
    "\n",
    "## Rolle's Theorem\n",
    "\n",
    "Rolle's Theorem states that if a function g is differentiable on (a, b), continuous [a, b], and g(a) = g(b), then there is at least one number c in (a, b) such that g'(c) = 0. To see this, consider the everywhere differentiable and everywhere continuous function $g(x) = (x-3)(x+2)(x^2+4)$. To prove that g' has at least one zero for x in (-∞, ∞), notice that g(3) = g(-2) = 0. By Rolle's Theorem, there must be at least one c in (-2, 3) such that g'(c) = 0.\n",
    "\n",
    "## Practice Problems\n",
    "\n",
    "Determine the interval(s) on which the following functions are continuous and the interval(s) on which they are differentiable.\n",
    "\n",
    "1) <img src=\"../IMAGES/differentiability16.png\">"
   ]
  },
  {
   "cell_type": "code",
   "execution_count": 0,
   "metadata": {
    "collapsed": false
   },
   "outputs": [],
   "source": [
    "plot((x-3)^(1/3)+3, x, 3, 6) + plot(-(-x+3)^(1/3)+3, x, 0, 3)"
   ]
  },
  {
   "cell_type": "markdown",
   "metadata": {
    "collapsed": false
   },
   "source": [
    "2) <img src=\"../IMAGES/differentiability17.png\">\n",
    "\n",
    "Hint: so both pieces of f match at π/2? Do the derivatives of the two pieces match there?"
   ]
  },
  {
   "cell_type": "code",
   "execution_count": 0,
   "metadata": {
    "collapsed": false
   },
   "outputs": [],
   "source": [
    "plot(sin(x), x, 0, pi/2)+plot(cos(2*x)+2, x, pi/2, pi)"
   ]
  },
  {
   "cell_type": "markdown",
   "metadata": {
    "collapsed": false
   },
   "source": [
    "3) <img src=\"../IMAGES/differentiability18.png\">"
   ]
  },
  {
   "cell_type": "code",
   "execution_count": 0,
   "metadata": {
    "collapsed": false
   },
   "outputs": [],
   "source": [
    "point((1, ln(1)+2), rgbcolor='black').show()"
   ]
  },
  {
   "cell_type": "markdown",
   "metadata": {
    "collapsed": false
   },
   "source": [
    "Use the Mean Value Theorem to answer the following questions.\n",
    "\n",
    "4) Marvin claims that he is a speed-walker and that he always walks at 6 miles per hour. He tells you that it took him only 12 minutes to walk one mile this morning. Prove that Marvin was not actually speed-walking at some point during his walk.\n",
    "\n",
    "5) Jessica plays for a recreational basketball team, and has noticed an interesting trend: the number of points she scores each game has increased linearly for the first five games of the season. If she scored 10 points in the first game, must there be some game of the last five in which she scored 14 points?\n",
    "\n",
    "6) Suppose that f'(x) < 1 for x in (0, 4). If f(0) = 1, can f(4) = 5?\n",
    "\n",
    "*NOTE: This is the last lesson for now. If you'd like more topics, us know at <a href=\"mailto:info+calctut@sagemath.com\" target=\"_blank\">info+calctut@sagemath.com</a>.*\n",
    "\n",
    "[Previous (The Definition of Derivative)](08-derivative.ipynb)  <span style=\"float:right\">[Next (Differentiation Rules)](10-diffrules.ipynb)</span>"
   ]
  },
  {
   "cell_type": "code",
   "execution_count": 0,
   "metadata": {
    "collapsed": false
   },
   "outputs": [],
   "source": []
  }
 ],
 "metadata": {
  "kernelspec": {
   "display_name": "SageMath (stable)",
   "name": "sagemath"
  },
  "language_info": {
   "codemirror_mode": {
    "name": "ipython",
    "version": 2
   },
   "file_extension": ".py",
   "mimetype": "text/x-python",
   "name": "python",
   "nbconvert_exporter": "python",
   "pygments_lexer": "ipython2",
   "version": "2.7.13"
  }
 },
 "nbformat": 4,
 "nbformat_minor": 0
}
