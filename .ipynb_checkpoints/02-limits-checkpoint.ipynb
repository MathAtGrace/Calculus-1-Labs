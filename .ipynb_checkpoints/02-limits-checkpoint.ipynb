{
 "cells": [
  {
   "cell_type": "markdown",
   "metadata": {},
   "source": [
    "# Limits\n",
    "\n",
    "Before we discuss exactly what a limit is, let's take a moment to become familiarized with the Jupyter notebook, which you will be using throughout these lessons. Our work for each section will be kept in its own separate notebook, which will make it easier to find and review past exercises.\n",
    "\n",
    "A limit, to be concise, is the value that a function approaches as a variable (such as x) approaches a certain value. Most of the time, this is fairly straightforward. For a function f(x) = 2\\*x, for example, the limit of f(x) as x approaches 4 would simply be 8, since 2 times 4 is 8. The notation for this, as you will surely see in a calculus book, in a calculus classroom or on a calculus test, looks like:\n",
    "\n",
    "$\\begin{align}\\lim_{x\\to 4}2x=8\\end{align}$\n",
    "\n",
    "Where limits will come in handy, though, is in situations where there is some ambiguity as to the value of a function at a point. As an example of this ambiguity, let's look at the graph of f(x) = (x2 - 1)/(x - 1). Place your cursor in the cell below and press SHIFT-ENTER or click the \"play\" button in the toolbar above."
   ]
  },
  {
   "cell_type": "code",
   "execution_count": null,
   "metadata": {},
   "outputs": [],
   "source": [
    "p = plot((x^2 - 1)/(x - 1), x, -1, 3)\n",
    "pt = point((1, 2), rgbcolor='white', pointsize=30, faceted=True)\n",
    "g = p+pt\n",
    "g.show(xmin=0, xmax=3, ymin=0, ymax=4)"
   ]
  },
  {
   "cell_type": "markdown",
   "metadata": {},
   "source": [
    "Looking at f(x), one can see that setting x equal to 1 would make both the numerator and the denominator equal to zero, which is why there is a circle at that point on the graph. Even though f(1) is undefined, however, we can still analyze, by way of limits, what f(1) would equal if it *did* exist. The notation for this would be:\n",
    "\n",
    "$\\begin{align}\\lim_{x\\to 1}\\frac{x^2 - 1}{x -1}\\end{align}$\n",
    "\n",
    "Just by looking at the graph, one can see that as x approaches 1, the y-value for f(x) approaches 2. To find this value algebraically, we can **remove the discontinuity** by factoring the numerator, then dividing both the top and the bottom by $(x - 1)$ to obtain:\n",
    "\n",
    "$\\begin{align}\n",
    "\\lim_{x\\to 1}\\frac{x^2 - 1}{x -1}=\\lim_{x\\to 1}{\\frac{(x+1)(x-1)}{x-1}}=\\lim_{x\\to 1}{x+1}=2\n",
    "\\end{align}$\n",
    "\n",
    "Thus, both graphically and analytically, we can see that the limit of f(x) as x approaches 1 is equal to 2. To verify this result, we can actually use the following code to have CoCalc compute the limit for us:\n"
   ]
  },
  {
   "cell_type": "code",
   "execution_count": null,
   "metadata": {},
   "outputs": [],
   "source": [
    "limit((x^2 - 1)/(x - 1), x=1)"
   ]
  },
  {
   "cell_type": "markdown",
   "metadata": {},
   "source": [
    "Running the code in a copy of this notebook will verify the result. You can use the limit function to check your answers to the following practice problems, as well.\n",
    "\n",
    "On your own, now, try evaluating the following five limits first graphically, then by algebraic simplification. To aid this pursuit, I have included SageMath code to plot the first two functions, though it won't circle the discontinuities for you this time. Simply run the code for each cell in your copy of this notebook and evaluate it. For the last three, see if you can modify the code from one of the other examples to graph the function. On a sidenote, use \"pi\" without the quotes to reference $\\pi$ from SageMath.\n",
    "\n",
    "## Practice Problems\n",
    "\n",
    "Evaluate each limit graphically and analytically.\n",
    "\n",
    "$\\begin{align}\\mbox{1) }\\lim_{x\\to 4}\\frac{x^2-2x-8}{x -4}\\end{align}$"
   ]
  },
  {
   "cell_type": "code",
   "execution_count": null,
   "metadata": {},
   "outputs": [],
   "source": [
    "plot((x^2 - 2*x - 8)/(x - 4), x, -1, 5).show(xmin=-1, xmax=6, ymin=0, ymax=7)"
   ]
  },
  {
   "cell_type": "markdown",
   "metadata": {},
   "source": [
    "$\\begin{align}\\mbox{2) }\\lim_{x\\to \\pi}\\frac{1-\\cos^2{x}}{\\sin{x}}\\end{align}$"
   ]
  },
  {
   "cell_type": "code",
   "execution_count": null,
   "metadata": {},
   "outputs": [],
   "source": [
    "plot((1 - cos(x)^2)/sin(x), x, -1, 5).show(xmin=-1, xmax=5, ymin=-1, ymax = 1)"
   ]
  },
  {
   "cell_type": "markdown",
   "metadata": {},
   "source": [
    "$\\begin{align}\\mbox{3) }\\lim_{x\\to 2}\\frac{(x-2)^4}{x^2-4x+4}\\end{align}$"
   ]
  },
  {
   "cell_type": "code",
   "execution_count": null,
   "metadata": {},
   "outputs": [],
   "source": [
    "# plot(...)"
   ]
  },
  {
   "cell_type": "markdown",
   "metadata": {},
   "source": [
    "$\\begin{align}\\mbox{4) }\\lim_{x\\to 0}\\frac{\\sin{x}}{x}\\end{align}$"
   ]
  },
  {
   "cell_type": "code",
   "execution_count": null,
   "metadata": {},
   "outputs": [],
   "source": [
    "# plot(...)"
   ]
  },
  {
   "cell_type": "markdown",
   "metadata": {},
   "source": [
    "$\\begin{align}\\mbox{5) }\\lim_{x\\to 0}\\frac{1-\\cos{x}}{x}\\end{align}$"
   ]
  },
  {
   "cell_type": "code",
   "execution_count": null,
   "metadata": {},
   "outputs": [],
   "source": [
    "# plot(...)"
   ]
  },
  {
   "cell_type": "markdown",
   "metadata": {},
   "source": [
    "[Previous (Review)](01-review.ipynb)  <span style=\"float:right\">[Next (Continuity)](03-continuity.ipynb)</span>"
   ]
  }
 ],
 "metadata": {
  "kernelspec": {
   "display_name": "SageMath 9.0",
   "language": "sage",
   "name": "sagemath"
  },
  "language_info": {
   "codemirror_mode": {
    "name": "ipython",
    "version": 3
   },
   "file_extension": ".py",
   "mimetype": "text/x-python",
   "name": "python",
   "nbconvert_exporter": "python",
   "pygments_lexer": "ipython3",
   "version": "3.7.3"
  }
 },
 "nbformat": 4,
 "nbformat_minor": 2
}
