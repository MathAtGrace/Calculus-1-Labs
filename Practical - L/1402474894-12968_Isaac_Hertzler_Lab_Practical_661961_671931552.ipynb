{
 "cells": [
  {
   "cell_type": "markdown",
   "metadata": {},
   "source": [
    "# Lab Practical\n",
    "By Isaac Hertzler "
   ]
  },
  {
   "cell_type": "markdown",
   "metadata": {},
   "source": [
    "# Question 1\n",
    "\n",
    "e^pi+2*(5+1) = 35.1406926327793"
   ]
  },
  {
   "cell_type": "code",
   "execution_count": 3,
   "metadata": {},
   "outputs": [
    {
     "data": {
      "text/plain": [
       "35.1406926327793"
      ]
     },
     "execution_count": 3,
     "metadata": {},
     "output_type": "execute_result"
    }
   ],
   "source": [
    "n(e^pi+2*(5+1))"
   ]
  },
  {
   "cell_type": "markdown",
   "metadata": {},
   "source": [
    "# Question 2\n",
    "Maximum: \n",
    "\n",
    "Minimum: \n",
    "\n",
    "x Intercept: None\n",
    "\n",
    "Y Intercept: y = 3\n",
    "\n",
    "Assymptotes: Vertical Assymptote at x = 0"
   ]
  },
  {
   "cell_type": "code",
   "execution_count": 5,
   "metadata": {},
   "outputs": [
    {
     "data": {
      "text/plain": [
       "[x == (-1/2*I + 3/2), x == (1/2*I + 3/2)]"
      ]
     },
     "execution_count": 5,
     "metadata": {},
     "output_type": "execute_result"
    }
   ],
   "source": [
    "f(x) = ((2*x^2-6*x+5)/(x-3)) \n",
    "solve(f == 0, x)"
   ]
  },
  {
   "cell_type": "code",
   "execution_count": 19,
   "metadata": {},
   "outputs": [
    {
     "data": {
      "text/plain": [
       "[x == 3]"
      ]
     },
     "execution_count": 19,
     "metadata": {},
     "output_type": "execute_result"
    }
   ],
   "source": [
    "solve(1/f == 0, x)"
   ]
  },
  {
   "cell_type": "code",
   "execution_count": 20,
   "metadata": {},
   "outputs": [
    {
     "data": {
      "text/html": [
       "<html><script type=\"math/tex; mode=display\">\\newcommand{\\Bold}[1]{\\mathbf{#1}}\\left[\\left[x < -\\frac{1}{2} \\, \\sqrt{10} + 3\\right], \\left[x > \\frac{1}{2} \\, \\sqrt{10} + 3\\right]\\right]</script></html>"
      ],
      "text/plain": [
       "[[x < -1/2*sqrt(10) + 3], [x > 1/2*sqrt(10) + 3]]"
      ]
     },
     "metadata": {},
     "output_type": "display_data"
    }
   ],
   "source": [
    "show(solve( diff(f, x) > 0, x))"
   ]
  },
  {
   "cell_type": "code",
   "execution_count": 21,
   "metadata": {},
   "outputs": [
    {
     "data": {
      "text/html": [
       "<html><script type=\"math/tex; mode=display\">\\newcommand{\\Bold}[1]{\\mathbf{#1}}\\left[\\left[x > -\\frac{1}{2} \\, \\sqrt{10} + 3, x < 3\\right], \\left[x > 3, x < \\frac{1}{2} \\, \\sqrt{10} + 3\\right]\\right]</script></html>"
      ],
      "text/plain": [
       "[[x > -1/2*sqrt(10) + 3, x < 3], [x > 3, x < 1/2*sqrt(10) + 3]]"
      ]
     },
     "metadata": {},
     "output_type": "display_data"
    }
   ],
   "source": [
    "show(solve( diff(f, x) < 0, x))"
   ]
  },
  {
   "cell_type": "code",
   "execution_count": 22,
   "metadata": {},
   "outputs": [
    {
     "data": {
      "text/plain": [
       "[x == -1/2*sqrt(10) + 3, x == 1/2*sqrt(10) + 3]"
      ]
     },
     "execution_count": 22,
     "metadata": {},
     "output_type": "execute_result"
    }
   ],
   "source": [
    "solve( diff(f, x) == 0, x)"
   ]
  },
  {
   "cell_type": "markdown",
   "metadata": {},
   "source": [
    "# Question 3\n",
    "Left Approximation: 0.135985460464793\n",
    "\n",
    "Right Approzimation: 0.123603065438135"
   ]
  },
  {
   "cell_type": "code",
   "execution_count": 71,
   "metadata": {},
   "outputs": [],
   "source": [
    "def f(x): return sin(x)*(e)^-x^2\n",
    "a, b = 1,5\n",
    "n = 100"
   ]
  },
  {
   "cell_type": "code",
   "execution_count": 72,
   "metadata": {},
   "outputs": [],
   "source": [
    "#print(list(range(n)))\n",
    "#print([i/2 + 1 for i in range(n)])"
   ]
  },
  {
   "cell_type": "code",
   "execution_count": 73,
   "metadata": {},
   "outputs": [],
   "source": [
    "x_n = [a + (b-a)/n*i for i in range(n+1)]\n",
    "#print(x_n)"
   ]
  },
  {
   "cell_type": "code",
   "execution_count": 74,
   "metadata": {},
   "outputs": [],
   "source": [
    "fx_n = [f(i).n() for i in x_n]\n",
    "#print(fx_n)"
   ]
  },
  {
   "cell_type": "code",
   "execution_count": 75,
   "metadata": {},
   "outputs": [],
   "source": [
    "#print(\"Left endpoints: \", fx_n[:-1])\n",
    "#print(\"Right endpoints: \", fx_n[1:])"
   ]
  },
  {
   "cell_type": "code",
   "execution_count": 76,
   "metadata": {},
   "outputs": [
    {
     "name": "stdout",
     "output_type": "stream",
     "text": [
      "Left Approximation:  0.135985460464793\n",
      "Right Approximation:  0.123603065438135\n"
     ]
    }
   ],
   "source": [
    "L = (b-a)/n * sum(fx_n[:-1])\n",
    "R = (b-a)/n * sum(fx_n[1:])\n",
    "print(\"Left Approximation: \", L)\n",
    "print(\"Right Approximation: \", R)"
   ]
  }
 ],
 "metadata": {
  "kernelspec": {
   "display_name": "SageMath 9.0",
   "language": "sage",
   "name": "sagemath"
  },
  "language_info": {
   "codemirror_mode": {
    "name": "ipython",
    "version": 3
   },
   "file_extension": ".py",
   "mimetype": "text/x-python",
   "name": "python",
   "nbconvert_exporter": "python",
   "pygments_lexer": "ipython3",
   "version": "3.7.3"
  }
 },
 "nbformat": 4,
 "nbformat_minor": 2
}
