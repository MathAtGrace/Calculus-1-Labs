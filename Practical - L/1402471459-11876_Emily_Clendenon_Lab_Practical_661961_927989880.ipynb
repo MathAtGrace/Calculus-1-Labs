{
 "cells": [
  {
   "cell_type": "markdown",
   "metadata": {},
   "source": [
    "# Lab Practical\n",
    "*Emily Clendenon"
   ]
  },
  {
   "cell_type": "markdown",
   "metadata": {},
   "source": [
    "Exercise 1 "
   ]
  },
  {
   "cell_type": "code",
   "execution_count": 2,
   "metadata": {},
   "outputs": [
    {
     "data": {
      "text/plain": [
       "35.1406926327793"
      ]
     },
     "execution_count": 2,
     "metadata": {},
     "output_type": "execute_result"
    }
   ],
   "source": [
    "n((e^pi)+2*(5+1))"
   ]
  },
  {
   "cell_type": "markdown",
   "metadata": {},
   "source": [
    "Exercise 2 "
   ]
  },
  {
   "cell_type": "code",
   "execution_count": 17,
   "metadata": {},
   "outputs": [],
   "source": [
    "g(x) = (((2*x^2)-(6*x)+5)/(x-3))"
   ]
  },
  {
   "cell_type": "code",
   "execution_count": 67,
   "metadata": {},
   "outputs": [
    {
     "data": {
      "text/plain": [
       "[x == -1/2*sqrt(10) + 3, x == 1/2*sqrt(10) + 3]"
      ]
     },
     "execution_count": 67,
     "metadata": {},
     "output_type": "execute_result"
    }
   ],
   "source": [
    "solve( diff(g, x) == 0, x)"
   ]
  },
  {
   "cell_type": "code",
   "execution_count": 68,
   "metadata": {},
   "outputs": [
    {
     "data": {
      "text/plain": [
       "-2/25*sqrt(10)*((sqrt(10) - 6)^2 + 6*sqrt(10) - 26) + 4/5*sqrt(10) - 24/5"
      ]
     },
     "execution_count": 68,
     "metadata": {},
     "output_type": "execute_result"
    }
   ],
   "source": [
    "g2 = diff(g, x, 2)\n",
    "g2(-1/2*sqrt(10) + 3)"
   ]
  },
  {
   "cell_type": "code",
   "execution_count": 69,
   "metadata": {},
   "outputs": [
    {
     "data": {
      "text/plain": [
       "2/25*sqrt(10)*((sqrt(10) + 6)^2 - 6*sqrt(10) - 26) - 4/5*sqrt(10) - 24/5"
      ]
     },
     "execution_count": 69,
     "metadata": {},
     "output_type": "execute_result"
    }
   ],
   "source": [
    "g2 = diff(g, x, 2)\n",
    "g2(1/2*sqrt(10) + 3)"
   ]
  },
  {
   "cell_type": "markdown",
   "metadata": {},
   "source": [
    "intercepts: "
   ]
  },
  {
   "cell_type": "code",
   "execution_count": 27,
   "metadata": {},
   "outputs": [
    {
     "data": {
      "text/plain": [
       "[x == (-1/2*I + 3/2), x == (1/2*I + 3/2)]"
      ]
     },
     "execution_count": 27,
     "metadata": {},
     "output_type": "execute_result"
    }
   ],
   "source": [
    "g(x) = (((2*x^2)-(6*x)+5)/(x-3))\n",
    "solve(g == 0, x)"
   ]
  },
  {
   "cell_type": "code",
   "execution_count": 63,
   "metadata": {},
   "outputs": [
    {
     "data": {
      "text/plain": [
       "-5/3"
      ]
     },
     "execution_count": 63,
     "metadata": {},
     "output_type": "execute_result"
    }
   ],
   "source": [
    "g(0)"
   ]
  },
  {
   "cell_type": "markdown",
   "metadata": {},
   "source": [
    "asymptotes: "
   ]
  },
  {
   "cell_type": "code",
   "execution_count": 64,
   "metadata": {},
   "outputs": [
    {
     "data": {
      "text/plain": [
       "[x == 3]"
      ]
     },
     "execution_count": 64,
     "metadata": {},
     "output_type": "execute_result"
    }
   ],
   "source": [
    "solve(1/g == 0, x)"
   ]
  },
  {
   "cell_type": "code",
   "execution_count": 65,
   "metadata": {},
   "outputs": [
    {
     "data": {
      "text/plain": [
       "x |--> +Infinity"
      ]
     },
     "execution_count": 65,
     "metadata": {},
     "output_type": "execute_result"
    }
   ],
   "source": [
    "limit(g, x =+infinity)"
   ]
  },
  {
   "cell_type": "code",
   "execution_count": 66,
   "metadata": {},
   "outputs": [
    {
     "data": {
      "text/plain": [
       "x |--> -Infinity"
      ]
     },
     "execution_count": 66,
     "metadata": {},
     "output_type": "execute_result"
    }
   ],
   "source": [
    "limit(g, x =-infinity)"
   ]
  },
  {
   "cell_type": "code",
   "execution_count": 38,
   "metadata": {},
   "outputs": [
    {
     "data": {
      "image/png": "[encoded data removed]",
      "text/plain": [
       "Graphics object consisting of 1 graphics primitive"
      ]
     },
     "execution_count": 38,
     "metadata": {},
     "output_type": "execute_result"
    }
   ],
   "source": [
    "plot(((2*x^2)-(6*x)+5)/(x-3), (-5,5))"
   ]
  },
  {
   "cell_type": "markdown",
   "metadata": {},
   "source": [
    "Exercise 3"
   ]
  },
  {
   "cell_type": "code",
   "execution_count": 39,
   "metadata": {},
   "outputs": [],
   "source": [
    "def f(x): return sin(x)*e^-x^2\n",
    "a, b = 1,5\n",
    "n = 100"
   ]
  },
  {
   "cell_type": "code",
   "execution_count": 51,
   "metadata": {},
   "outputs": [
    {
     "name": "stdout",
     "output_type": "stream",
     "text": [
      "[0, 1, 2, 3, 4, 5, 6, 7, 8, 9, 10, 11, 12, 13, 14, 15, 16, 17, 18, 19, 20, 21, 22, 23, 24, 25, 26, 27, 28, 29, 30, 31, 32, 33, 34, 35, 36, 37, 38, 39, 40, 41, 42, 43, 44, 45, 46, 47, 48, 49, 50, 51, 52, 53, 54, 55, 56, 57, 58, 59, 60, 61, 62, 63, 64, 65, 66, 67, 68, 69, 70, 71, 72, 73, 74, 75, 76, 77, 78, 79, 80, 81, 82, 83, 84, 85, 86, 87, 88, 89, 90, 91, 92, 93, 94, 95, 96, 97, 98, 99]\n",
      "[1, 3/2, 2, 5/2, 3, 7/2, 4, 9/2, 5, 11/2, 6, 13/2, 7, 15/2, 8, 17/2, 9, 19/2, 10, 21/2, 11, 23/2, 12, 25/2, 13, 27/2, 14, 29/2, 15, 31/2, 16, 33/2, 17, 35/2, 18, 37/2, 19, 39/2, 20, 41/2, 21, 43/2, 22, 45/2, 23, 47/2, 24, 49/2, 25, 51/2, 26, 53/2, 27, 55/2, 28, 57/2, 29, 59/2, 30, 61/2, 31, 63/2, 32, 65/2, 33, 67/2, 34, 69/2, 35, 71/2, 36, 73/2, 37, 75/2, 38, 77/2, 39, 79/2, 40, 81/2, 41, 83/2, 42, 85/2, 43, 87/2, 44, 89/2, 45, 91/2, 46, 93/2, 47, 95/2, 48, 97/2, 49, 99/2, 50, 101/2]\n"
     ]
    }
   ],
   "source": [
    "print(list(range(n)))\n",
    "print([i/2+1 for i in range(n)])"
   ]
  },
  {
   "cell_type": "code",
   "execution_count": 50,
   "metadata": {},
   "outputs": [
    {
     "name": "stdout",
     "output_type": "stream",
     "text": [
      "[1, 26/25, 27/25, 28/25, 29/25, 6/5, 31/25, 32/25, 33/25, 34/25, 7/5, 36/25, 37/25, 38/25, 39/25, 8/5, 41/25, 42/25, 43/25, 44/25, 9/5, 46/25, 47/25, 48/25, 49/25, 2, 51/25, 52/25, 53/25, 54/25, 11/5, 56/25, 57/25, 58/25, 59/25, 12/5, 61/25, 62/25, 63/25, 64/25, 13/5, 66/25, 67/25, 68/25, 69/25, 14/5, 71/25, 72/25, 73/25, 74/25, 3, 76/25, 77/25, 78/25, 79/25, 16/5, 81/25, 82/25, 83/25, 84/25, 17/5, 86/25, 87/25, 88/25, 89/25, 18/5, 91/25, 92/25, 93/25, 94/25, 19/5, 96/25, 97/25, 98/25, 99/25, 4, 101/25, 102/25, 103/25, 104/25, 21/5, 106/25, 107/25, 108/25, 109/25, 22/5, 111/25, 112/25, 113/25, 114/25, 23/5, 116/25, 117/25, 118/25, 119/25, 24/5, 121/25, 122/25, 123/25, 124/25, 5]\n"
     ]
    }
   ],
   "source": [
    "x_n = [a + (b-a)/n*i for i in range(n+1)]\n",
    "print(x_n)"
   ]
  },
  {
   "cell_type": "code",
   "execution_count": 53,
   "metadata": {},
   "outputs": [],
   "source": [
    "fx_n = [f(i).n() for i in x_n]\n",
    "#print(fx_n)"
   ]
  },
  {
   "cell_type": "code",
   "execution_count": 52,
   "metadata": {},
   "outputs": [],
   "source": [
    "#print(\"Left endpoints: \", fx_n[:-1])\n",
    "#print(\"Right endpoints: \", fx_n[1:])"
   ]
  },
  {
   "cell_type": "code",
   "execution_count": 54,
   "metadata": {},
   "outputs": [
    {
     "name": "stdout",
     "output_type": "stream",
     "text": [
      "Left Approximation:  0.135985460464793\n",
      "Right Approximation:  0.123603065438135\n"
     ]
    }
   ],
   "source": [
    "L = (b-a)/n * sum(fx_n[:-1])\n",
    "R = (b-a)/n * sum(fx_n[1:])\n",
    "print(\"Left Approximation: \", L)\n",
    "print(\"Right Approximation: \", R)"
   ]
  }
 ],
 "metadata": {
  "kernelspec": {
   "display_name": "SageMath 9.1",
   "language": "sage",
   "name": "sagemath"
  },
  "language_info": {
   "codemirror_mode": {
    "name": "ipython",
    "version": 3
   },
   "file_extension": ".py",
   "mimetype": "text/x-python",
   "name": "python",
   "nbconvert_exporter": "python",
   "pygments_lexer": "ipython3",
   "version": "3.7.3"
  }
 },
 "nbformat": 4,
 "nbformat_minor": 2
}
