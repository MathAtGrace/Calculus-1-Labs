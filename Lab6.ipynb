{
 "cells": [
  {
   "cell_type": "markdown",
   "metadata": {},
   "source": [
    "# Lab 6"
   ]
  },
  {
   "cell_type": "markdown",
   "metadata": {},
   "source": [
    "### Question 1\n",
    "You have a bicyclist riding his bike at 2ft./sec on a bridge that is 6ft. tall traveling east.  You have a kayaker paddling under the bridge at 3ft./sec traveling south.  The kayaker arrives directly under the center of the bridge 1 second before the bike reaches the center of the bridge.  They both travel for 4 seconds after the bike passes the center of the bridge.  How fast are they separating?\n",
    "\n",
    "### Question 2\n",
    "You and a friend are in front of the Science Building.  You head inside for Calculus class and your friend walks to Jazzman’s to grab some coffee.  How quickly is the distance between you and your friend increasing after 5 seconds, assuming that you both walk in straight lines for those 5 seconds?  (Hint:  Law of Cosines)\n",
    "\n",
    "\n",
    "### Question 3\n",
    "Fire a finger rocket in the air and film the entire flight from 20 ft away.  What is the rate of change of the angle in terms of t?\n"
   ]
  },
  {
   "cell_type": "code",
   "execution_count": null,
   "metadata": {},
   "outputs": [],
   "source": []
  }
 ],
 "metadata": {
  "kernelspec": {
   "display_name": "SageMath 9.0",
   "language": "sage",
   "name": "sagemath"
  },
  "language_info": {
   "codemirror_mode": {
    "name": "ipython",
    "version": 3
   },
   "file_extension": ".py",
   "mimetype": "text/x-python",
   "name": "python",
   "nbconvert_exporter": "python",
   "pygments_lexer": "ipython3",
   "version": "3.7.3"
  }
 },
 "nbformat": 4,
 "nbformat_minor": 2
}
