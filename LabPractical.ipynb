{
 "cells": [
  {
   "cell_type": "markdown",
   "metadata": {},
   "source": [
    "# Lab Practical"
   ]
  },
  {
   "cell_type": "markdown",
   "metadata": {},
   "source": [
    "For this lab practical, you may use any other lab you have done to help you, but you must work alone.  Feel free to ask Dr. Johnson questions about anything that is confusing.\n",
    "\n",
    "Remember to put your name at the top of your lab practical."
   ]
  },
  {
   "cell_type": "markdown",
   "metadata": {},
   "source": [
    "### Exercise 1\n",
    "\n",
    "Evaluate $e^{\\pi} + 2 \\times (5 + 1)$ as a decimal."
   ]
  },
  {
   "cell_type": "markdown",
   "metadata": {},
   "source": [
    "### Exercise 2\n",
    "\n",
    "For the function\n",
    "$$g(x) = \\frac{2x^2 - 6x + 5}{x-3}$$\n",
    "Find the relative maximums and minimumns, the $x$ and $y$-intercepts, and the assymptotes.  Then graph the function."
   ]
  },
  {
   "cell_type": "markdown",
   "metadata": {},
   "source": [
    "### Exercise 3\n",
    "\n",
    "For the function\n",
    "$$f(x) = \\sin(x)e^{-x^2}$$\n",
    "Compute the left and right Rieman sums on the interval $[1, 5]$ for $n=100$"
   ]
  }
 ],
 "metadata": {
  "kernelspec": {
   "display_name": "SageMath 9.0",
   "language": "sage",
   "name": "sagemath"
  },
  "language_info": {
   "codemirror_mode": {
    "name": "ipython",
    "version": 3
   },
   "file_extension": ".py",
   "mimetype": "text/x-python",
   "name": "python",
   "nbconvert_exporter": "python",
   "pygments_lexer": "ipython3",
   "version": "3.7.3"
  }
 },
 "nbformat": 4,
 "nbformat_minor": 2
}
