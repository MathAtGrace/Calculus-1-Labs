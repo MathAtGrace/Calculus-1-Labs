{
 "cells": [
  {
   "cell_type": "markdown",
   "metadata": {},
   "source": [
    "# Lab 2"
   ]
  },
  {
   "cell_type": "markdown",
   "metadata": {},
   "source": [
    "### Problem 1:\n",
    "Watch the two videos below and determine where the red car will be at the end of the ride.  Give your answer as two angles: the angle of the big arm and the angle of the little arm."
   ]
  },
  {
   "cell_type": "markdown",
   "metadata": {},
   "source": [
    "<video controls src=\"./images/scrambler_act1.mov\" />"
   ]
  },
  {
   "cell_type": "markdown",
   "metadata": {},
   "source": [
    "<video controls src=\"./images/scrambler_act2.mov\" />"
   ]
  },
  {
   "cell_type": "markdown",
   "metadata": {},
   "source": [
    "### Problem 1 Answer:\n",
    "\n",
    "![scrambler_act_3.png](./images/scrambler_act3.png)"
   ]
  },
  {
   "cell_type": "markdown",
   "metadata": {},
   "source": [
    "### Problem 2\n",
    "Use the two videos and the screenshots below to calculate when the number of downloads will reach 25 billion.  Use a linear model and an exponential model. Your answer should be a date and time for each model. Which model do you expec to be closer to reality?"
   ]
  },
  {
   "cell_type": "markdown",
   "metadata": {},
   "source": [
    "<video controls src=\"./images/apps_act1.mov\" />"
   ]
  },
  {
   "cell_type": "markdown",
   "metadata": {},
   "source": [
    "<video controls src=\"./images/apps_act2.mov\" />"
   ]
  },
  {
   "cell_type": "markdown",
   "metadata": {},
   "source": [
    "![title](images/feb2012.png)"
   ]
  },
  {
   "cell_type": "markdown",
   "metadata": {},
   "source": [
    "![title](images/timezone.png)"
   ]
  },
  {
   "cell_type": "code",
   "execution_count": 37,
   "metadata": {
    "collapsed": true
   },
   "outputs": [
    {
     "data": {
      "text/html": [
       "<iframe src=images/timer.pdf width=700 height=500></iframe>"
      ],
      "text/latex": [
       "\\includegraphics[width=1.0\\textwidth]{images/timer.pdf}"
      ],
      "text/plain": [
       "<__main__.PDF object at 0x6febff1cc50>"
      ]
     },
     "execution_count": 37,
     "metadata": {},
     "output_type": "execute_result"
    }
   ],
   "source": [
    "PDF('images/timer.pdf',size=(700,500))"
   ]
  },
  {
   "cell_type": "markdown",
   "metadata": {},
   "source": [
    "### Problem 2 Answer\n",
    "\n",
    "Linear Model\n",
    " - Somewhere close to 9,997 minutes later\n",
    " - Which is 8:05 PM Eastern Time on March 2, 2012\n",
    " \n",
    "Exponential Model\n",
    " - Somewhere close to 9,928 minutes later\n",
    " - Which is 6:56 PM Eastern Time on March 2, 2012\n",
    " \n",
    "If they are off by 3 hours, that is because they forgot about the timezone difference.\n"
   ]
  },
  {
   "cell_type": "code",
   "execution_count": 59,
   "metadata": {},
   "outputs": [
    {
     "name": "stdout",
     "output_type": "stream",
     "text": [
      "February 24, 2012, 06:28 PM\n",
      "February 24, 2012, 09:28 PM\n",
      "March 02, 2012, 08:05 PM\n",
      "March 02, 2012, 06:56 PM\n"
     ]
    }
   ],
   "source": [
    "#Code to add minutes to start time\n",
    "from datetime import datetime\n",
    "from datetime import timedelta\n",
    "start = datetime.fromisoformat('2012-02-24T18:28:00')\n",
    "print(start.strftime(format = \"%B %d, %Y, %I:%M %p\"))\n",
    "#Convert to Eastern\n",
    "start = start + timedelta(hours = int(3))\n",
    "print(start.strftime(format = \"%B %d, %Y, %I:%M %p\"))\n",
    "#Linear model\n",
    "linear = start + timedelta(minutes = int(9997))\n",
    "print(linear.strftime(format = \"%B %d, %Y, %I:%M %p\"))\n",
    "#Exponential model\n",
    "expo = start + timedelta(minutes = int(9928))\n",
    "print(expo.strftime(format = \"%B %d, %Y, %I:%M %p\"))"
   ]
  },
  {
   "cell_type": "markdown",
   "metadata": {},
   "source": [
    "### Problem 3\n",
    "Inscribe a rectangle in a circle of radius 1, where b is the base and h is the height.  Then draw an isosceles triangle whose base is b.  Find h and b so that the area of the rectangle and triangle are the same.\n",
    "![incribedhouse](images/house.PNG)"
   ]
  },
  {
   "cell_type": "markdown",
   "metadata": {},
   "source": [
    "### Problem 3 Answer\n",
    "\n",
    "Let $t$ be the height of the triangle.  Then\n",
    "$$t = \\frac{1}{2}(2 - h)$$\n",
    "Setting the areas equal to each other gives us\n",
    "$$bh = \\frac{1}{2}b \\left( \\frac{1}{2}(2-h) \\right) = b \\left( \\frac{1}{2} - \\frac{h}{4} \\right)$$\n",
    "Dividing both sides by $b$ and adding $\\frac{h}{4}$ to both sides yields\n",
    "$$\\frac{5}{4}h = \\frac{1}{2}$$\n",
    "and hence, $h = \\frac{2}{5} = 0.4$.  To find $b$, use the Pythagorean Theorem\n",
    "$$b^2 + \\left( \\frac{2}{5} \\right)^2 = 2^2$$\n",
    "and solve for $b$ to get\n",
    "$$b = \\frac{\\sqrt{96}}{5} \\approx 1.96$$."
   ]
  },
  {
   "cell_type": "markdown",
   "metadata": {},
   "source": [
    "### Problem 4\n",
    "Drop the provided bouncy balls from ten different heights, and in a spreadsheet keep track of\n",
    "\n",
    "- the initial height\n",
    "- the bounce height\n",
    "- the ratio of bounce/initial\n",
    "\n",
    "And make conjectures about this ratio as the initial height would go to 0 or go to infinity."
   ]
  },
  {
   "cell_type": "markdown",
   "metadata": {},
   "source": [
    "### Problem 4 Answer\n",
    "\n",
    "Give points for 10 measurements.  As drop height goes to infitity, the bounce ratio might go to zero?  As the drop height goes to zero, the bounce ratio should be somewhere between 0.65 and 0.85\n",
    "\n",
    "<br>\n",
    "<br>\n",
    "<br>\n",
    "<br>\n",
    "<br>\n",
    "<br>\n",
    "<br>\n",
    "<br>\n",
    "<br>\n",
    "<br>\n",
    "<br>\n",
    "<br>\n",
    "<br>\n",
    "<br>\n",
    "<br>\n",
    "<br>\n",
    "<br>\n",
    "<br>\n",
    "<br>\n",
    "<br>\n",
    "<br>\n",
    "<br>\n",
    "<br>\n",
    "<br>\n",
    "\n",
    "### Apendix A\n",
    "\n",
    "Ignore the cell below.  It creates a function to nicely display the multipage pdf document from problem 2."
   ]
  },
  {
   "cell_type": "code",
   "execution_count": 38,
   "metadata": {},
   "outputs": [],
   "source": [
    "class PDF(object):\n",
    "  def __init__(self, pdf, size=(200,200)):\n",
    "    self.pdf = pdf\n",
    "    self.size = size\n",
    "\n",
    "  def _repr_html_(self):\n",
    "    return '<iframe src={0} width={1[0]} height={1[1]}></iframe>'.format(self.pdf, self.size)\n",
    "\n",
    "  def _repr_latex_(self):\n",
    "    return r'\\includegraphics[width=1.0\\textwidth]{{{0}}}'.format(self.pdf)"
   ]
  }
 ],
 "metadata": {
  "kernelspec": {
   "display_name": "SageMath 9.0",
   "language": "sage",
   "name": "sagemath"
  },
  "language_info": {
   "codemirror_mode": {
    "name": "ipython",
    "version": 3
   },
   "file_extension": ".py",
   "mimetype": "text/x-python",
   "name": "python",
   "nbconvert_exporter": "python",
   "pygments_lexer": "ipython3",
   "version": "3.7.3"
  }
 },
 "nbformat": 4,
 "nbformat_minor": 2
}
