{
 "cells": [
  {
   "cell_type": "markdown",
   "metadata": {},
   "source": [
    "# Lab 11\n",
    "## Seth\n",
    "**A and B represent the limits of the function. N shows how many partitions the function is split into. I represents the index**"
   ]
  },
  {
   "cell_type": "code",
   "execution_count": 9,
   "metadata": {},
   "outputs": [],
   "source": [
    "def f(x): return sqrt(2*x)\n",
    "a, b = 1,5\n",
    "n = 4"
   ]
  },
  {
   "cell_type": "code",
   "execution_count": 10,
   "metadata": {},
   "outputs": [
    {
     "name": "stdout",
     "output_type": "stream",
     "text": [
      "[0, 1, 2, 3]\n",
      "[1, 3/2, 2, 5/2]\n"
     ]
    }
   ],
   "source": [
    "print(list(range(n)))\n",
    "print([i/2 + 1 for i in range(n)])"
   ]
  },
  {
   "cell_type": "code",
   "execution_count": 11,
   "metadata": {},
   "outputs": [
    {
     "name": "stdout",
     "output_type": "stream",
     "text": [
      "[1, 2, 3, 4, 5]\n"
     ]
    }
   ],
   "source": [
    "x_n = [a + (b-a)/n*i for i in range(n+1)]\n",
    "print(x_n)"
   ]
  },
  {
   "cell_type": "code",
   "execution_count": 12,
   "metadata": {},
   "outputs": [
    {
     "name": "stdout",
     "output_type": "stream",
     "text": [
      "[1.41421356237310, 2.00000000000000, 2.44948974278318, 2.82842712474619, 3.16227766016838]\n"
     ]
    }
   ],
   "source": [
    "fx_n= [f(i).n() for i in x_n]\n",
    "print(fx_n)"
   ]
  },
  {
   "cell_type": "code",
   "execution_count": 13,
   "metadata": {},
   "outputs": [
    {
     "name": "stdout",
     "output_type": "stream",
     "text": [
      "Left endpoints:  [1.41421356237310, 2.00000000000000, 2.44948974278318, 2.82842712474619]\n",
      "Right endpoints:  [2.00000000000000, 2.44948974278318, 2.82842712474619, 3.16227766016838]\n"
     ]
    }
   ],
   "source": [
    "print(\"Left endpoints: \", fx_n[:-1])\n",
    "print(\"Right endpoints: \", fx_n[1:])"
   ]
  },
  {
   "cell_type": "code",
   "execution_count": 14,
   "metadata": {},
   "outputs": [
    {
     "name": "stdout",
     "output_type": "stream",
     "text": [
      "Left Approximation:  8.69213042990246\n",
      "Right Approximation:  10.4401945276977\n"
     ]
    }
   ],
   "source": [
    "L = (b-a)/n * sum(fx_n[:-1])\n",
    "R = (b-a)/n * sum(fx_n[1:])\n",
    "print(\"Left Approximation: \", L)\n",
    "print(\"Right Approximation: \", R)"
   ]
  },
  {
   "cell_type": "code",
   "execution_count": 39,
   "metadata": {},
   "outputs": [
    {
     "ename": "SyntaxError",
     "evalue": "invalid syntax (<ipython-input-39-4699f36e7b02>, line 3)",
     "output_type": "error",
     "traceback": [
      "\u001b[0;36m  File \u001b[0;32m\"<ipython-input-39-4699f36e7b02>\"\u001b[0;36m, line \u001b[0;32m3\u001b[0m\n\u001b[0;31m    P_R = sum([plot(fx_n[i+Integer(1)], x, x_n[i], x_n[i+Integer(1)], color = \"green\") for i in r\u001b[0m\n\u001b[0m      ^\u001b[0m\n\u001b[0;31mSyntaxError\u001b[0m\u001b[0;31m:\u001b[0m invalid syntax\n"
     ]
    }
   ],
   "source": [
    "P_f = plot(f(x), x, a, b)\n",
    "P_L = sum([plot(fx_n[i], x, x_n[i], x_n[i+1], color = \"red\") for i in range\n",
    "P_R = sum([plot(fx_n[i+1], x, x_n[i], x_n[i+1], color = \"green\") for i in r\n",
    "show(P_f + P_L + P_R)"
   ]
  },
  {
   "cell_type": "markdown",
   "metadata": {},
   "source": [
    "# Question 2"
   ]
  },
  {
   "cell_type": "code",
   "execution_count": 16,
   "metadata": {},
   "outputs": [],
   "source": [
    "def f(t): return 100*(1-(e)^(-0.1*t))\n",
    "a, b = 5,50\n",
    "n = 10"
   ]
  },
  {
   "cell_type": "code",
   "execution_count": 17,
   "metadata": {},
   "outputs": [
    {
     "name": "stdout",
     "output_type": "stream",
     "text": [
      "[0, 1, 2, 3, 4, 5, 6, 7, 8, 9]\n",
      "[1, 3/2, 2, 5/2, 3, 7/2, 4, 9/2, 5, 11/2]\n"
     ]
    }
   ],
   "source": [
    "print(list(range(n)))\n",
    "print([i/2 + 1 for i in range(n)])"
   ]
  },
  {
   "cell_type": "code",
   "execution_count": 18,
   "metadata": {},
   "outputs": [
    {
     "name": "stdout",
     "output_type": "stream",
     "text": [
      "[5, 19/2, 14, 37/2, 23, 55/2, 32, 73/2, 41, 91/2, 50]\n"
     ]
    }
   ],
   "source": [
    "t_n = [a + (b-a)/n*i for i in range(n+1)]\n",
    "print(t_n)"
   ]
  },
  {
   "cell_type": "code",
   "execution_count": 19,
   "metadata": {},
   "outputs": [
    {
     "name": "stdout",
     "output_type": "stream",
     "text": [
      "[39.3469340287367, 61.3258976545499, 75.3403036058394, 84.2762833686372, 89.9741156277196, 93.6072138793292, 95.9237796021634, 97.4008871221245, 98.3427324598239, 98.9432795616147, 99.3262053000915]\n"
     ]
    }
   ],
   "source": [
    "ft_n = [f(i).n() for i in t_n]\n",
    "print(ft_n)"
   ]
  },
  {
   "cell_type": "code",
   "execution_count": 20,
   "metadata": {},
   "outputs": [
    {
     "name": "stdout",
     "output_type": "stream",
     "text": [
      "Left endpoints:  [39.3469340287367, 61.3258976545499, 75.3403036058394, 84.2762833686372, 89.9741156277196, 93.6072138793292, 95.9237796021634, 97.4008871221245, 98.3427324598239, 98.9432795616147]\n",
      "Right endpoints:  [61.3258976545499, 75.3403036058394, 84.2762833686372, 89.9741156277196, 93.6072138793292, 95.9237796021634, 97.4008871221245, 98.3427324598239, 98.9432795616147, 99.3262053000915]\n"
     ]
    }
   ],
   "source": [
    "print(\"Left endpoints: \", ft_n[:-1])\n",
    "print(\"Right endpoints: \", ft_n[1:])"
   ]
  },
  {
   "cell_type": "code",
   "execution_count": 21,
   "metadata": {},
   "outputs": [
    {
     "name": "stdout",
     "output_type": "stream",
     "text": [
      "Left Approximation:  3755.16642109742\n",
      "Right Approximation:  4025.07314181852\n"
     ]
    }
   ],
   "source": [
    "L = (b-a)/n * sum(ft_n[:-1])\n",
    "R = (b-a)/n * sum(ft_n[1:])\n",
    "print(\"Left Approximation: \", L)\n",
    "print(\"Right Approximation: \", R)"
   ]
  },
  {
   "cell_type": "code",
   "execution_count": 22,
   "metadata": {},
   "outputs": [
    {
     "ename": "SyntaxError",
     "evalue": "invalid syntax (<ipython-input-22-b26f5136ffdd>, line 4)",
     "output_type": "error",
     "traceback": [
      "\u001b[0;36m  File \u001b[0;32m\"<ipython-input-22-b26f5136ffdd>\"\u001b[0;36m, line \u001b[0;32m4\u001b[0m\n\u001b[0;31m    P_R = sum([plot(ft_n[i+Integer(1)], t, t_n[i], t_n[i+Integer(1)], color = \"green\") for i in r\u001b[0m\n\u001b[0m      ^\u001b[0m\n\u001b[0;31mSyntaxError\u001b[0m\u001b[0;31m:\u001b[0m invalid syntax\n"
     ]
    }
   ],
   "source": [
    "t=var('t')\n",
    "P_f = plot(f(t), t, a, b)\n",
    "P_L = sum([plot(ft_n[i], t, t_n[i], t_n[i+1], color = \"red\") for i in range\n",
    "P_R = sum([plot(ft_n[i+1], t, t_n[i], t_n[i+1], color = \"green\") for i in r\n",
    "show(P_f + P_L + P_R)"
   ]
  },
  {
   "cell_type": "code",
   "execution_count": 23,
   "metadata": {},
   "outputs": [],
   "source": [
    "def f(t): return 100*(1-(e)^(-0.1*t))\n",
    "a, b = 5,50\n",
    "n = 100"
   ]
  },
  {
   "cell_type": "code",
   "execution_count": 24,
   "metadata": {},
   "outputs": [
    {
     "name": "stdout",
     "output_type": "stream",
     "text": [
      "[0, 1, 2, 3, 4, 5, 6, 7, 8, 9, 10, 11, 12, 13, 14, 15, 16, 17, 18, 19, 20, 21, 22, 23, 24, 25, 26, 27, 28, 29, 30, 31, 32, 33, 34, 35, 36, 37, 38, 39, 40, 41, 42, 43, 44, 45, 46, 47, 48, 49, 50, 51, 52, 53, 54, 55, 56, 57, 58, 59, 60, 61, 62, 63, 64, 65, 66, 67, 68, 69, 70, 71, 72, 73, 74, 75, 76, 77, 78, 79, 80, 81, 82, 83, 84, 85, 86, 87, 88, 89, 90, 91, 92, 93, 94, 95, 96, 97, 98, 99]\n",
      "[1, 3/2, 2, 5/2, 3, 7/2, 4, 9/2, 5, 11/2, 6, 13/2, 7, 15/2, 8, 17/2, 9, 19/2, 10, 21/2, 11, 23/2, 12, 25/2, 13, 27/2, 14, 29/2, 15, 31/2, 16, 33/2, 17, 35/2, 18, 37/2, 19, 39/2, 20, 41/2, 21, 43/2, 22, 45/2, 23, 47/2, 24, 49/2, 25, 51/2, 26, 53/2, 27, 55/2, 28, 57/2, 29, 59/2, 30, 61/2, 31, 63/2, 32, 65/2, 33, 67/2, 34, 69/2, 35, 71/2, 36, 73/2, 37, 75/2, 38, 77/2, 39, 79/2, 40, 81/2, 41, 83/2, 42, 85/2, 43, 87/2, 44, 89/2, 45, 91/2, 46, 93/2, 47, 95/2, 48, 97/2, 49, 99/2, 50, 101/2]\n"
     ]
    }
   ],
   "source": [
    "print(list(range(n)))\n",
    "print([i/2 + 1 for i in range(n)])"
   ]
  },
  {
   "cell_type": "code",
   "execution_count": 25,
   "metadata": {},
   "outputs": [
    {
     "name": "stdout",
     "output_type": "stream",
     "text": [
      "[5, 109/20, 59/10, 127/20, 34/5, 29/4, 77/10, 163/20, 43/5, 181/20, 19/2, 199/20, 52/5, 217/20, 113/10, 47/4, 61/5, 253/20, 131/10, 271/20, 14, 289/20, 149/10, 307/20, 79/5, 65/4, 167/10, 343/20, 88/5, 361/20, 37/2, 379/20, 97/5, 397/20, 203/10, 83/4, 106/5, 433/20, 221/10, 451/20, 23, 469/20, 239/10, 487/20, 124/5, 101/4, 257/10, 523/20, 133/5, 541/20, 55/2, 559/20, 142/5, 577/20, 293/10, 119/4, 151/5, 613/20, 311/10, 631/20, 32, 649/20, 329/10, 667/20, 169/5, 137/4, 347/10, 703/20, 178/5, 721/20, 73/2, 739/20, 187/5, 757/20, 383/10, 155/4, 196/5, 793/20, 401/10, 811/20, 41, 829/20, 419/10, 847/20, 214/5, 173/4, 437/10, 883/20, 223/5, 901/20, 91/2, 919/20, 232/5, 937/20, 473/10, 191/4, 241/5, 973/20, 491/10, 991/20, 50]\n"
     ]
    }
   ],
   "source": [
    "t_n = [a + (b-a)/n*i for i in range(n+1)]\n",
    "print(t_n)"
   ]
  },
  {
   "cell_type": "code",
   "execution_count": 26,
   "metadata": {},
   "outputs": [
    {
     "name": "stdout",
     "output_type": "stream",
     "text": [
      "[39.3469340287367, 42.0158216660154, 44.5672715265493, 47.0064511682431, 49.3383007634410, 51.5675431044638, 53.6986931688772, 55.7360672638649, 57.6837917682251, 59.5458114896981, 61.3258976545499, 63.0276555455941, 64.6545318041220, 66.2098214105287, 67.6966743577747, 69.1181020311980, 70.4769833075986, 71.7760703859477, 73.0179943615313, 74.2052705548174, 75.3403036058394, 76.4253923444137, 77.4627344460561, 78.4544308830258, 79.4024901795117, 80.3088324795806, 81.1752934361253, 82.0036279286888, 82.7955136176950, 83.5525543422845, 84.2762833686372, 84.9681664953600, 85.6296050222297, 86.2619385883046, 86.8664478851507, 87.4443572506803, 87.9968371488543, 88.5250065402721, 89.0299351484489, 89.5126456263713, 89.9741156277196, 90.4152797869501, 90.8370316122495, 91.2402252951943, 91.6256774407804, 91.9941687213280, 92.3464454576089, 92.6832211304018, 93.0051778255345, 93.3129676153406, 93.6072138793292, 93.8885125667412, 94.1574334035499, 94.4145210463515, 94.6602961854803, 94.8952565995846, 95.1198781637987, 95.3346158135528, 95.5399044659725, 95.7361599007347, 95.9237796021634, 96.1031435642715, 96.2746150603784, 96.4385413788628, 96.5952545265401, 96.7450719010897, 96.8882969338939, 97.0252197045902, 97.1561175285815, 97.2812555186947, 97.4008871221245, 97.5152546337510, 97.6245896868695, 97.7291137223269, 97.8290384370151, 97.9245662126300, 98.0158905255630, 98.1031963387570, 98.1866604763199, 98.2664519816534, 98.3427324598239, 98.4156564048679, 98.4853715126953, 98.5520189802240, 98.6157337913520, 98.6766449903459, 98.7348759431995, 98.7905445874922, 98.8437636712531, 98.8946409813141, 98.9432795616147, 98.9897779219021, 99.0342302372462, 99.0767265387768, 99.1173528960273, 99.1561915912549, 99.1933212860900, 99.2288171808537, 99.2627511668632, 99.2951919720368, 99.3262053000915]\n"
     ]
    }
   ],
   "source": [
    "ft_n = [f(i).n() for i in t_n]\n",
    "print(ft_n)"
   ]
  },
  {
   "cell_type": "code",
   "execution_count": 27,
   "metadata": {},
   "outputs": [
    {
     "name": "stdout",
     "output_type": "stream",
     "text": [
      "Left endpoints:  [39.3469340287367, 42.0158216660154, 44.5672715265493, 47.0064511682431, 49.3383007634410, 51.5675431044638, 53.6986931688772, 55.7360672638649, 57.6837917682251, 59.5458114896981, 61.3258976545499, 63.0276555455941, 64.6545318041220, 66.2098214105287, 67.6966743577747, 69.1181020311980, 70.4769833075986, 71.7760703859477, 73.0179943615313, 74.2052705548174, 75.3403036058394, 76.4253923444137, 77.4627344460561, 78.4544308830258, 79.4024901795117, 80.3088324795806, 81.1752934361253, 82.0036279286888, 82.7955136176950, 83.5525543422845, 84.2762833686372, 84.9681664953600, 85.6296050222297, 86.2619385883046, 86.8664478851507, 87.4443572506803, 87.9968371488543, 88.5250065402721, 89.0299351484489, 89.5126456263713, 89.9741156277196, 90.4152797869501, 90.8370316122495, 91.2402252951943, 91.6256774407804, 91.9941687213280, 92.3464454576089, 92.6832211304018, 93.0051778255345, 93.3129676153406, 93.6072138793292, 93.8885125667412, 94.1574334035499, 94.4145210463515, 94.6602961854803, 94.8952565995846, 95.1198781637987, 95.3346158135528, 95.5399044659725, 95.7361599007347, 95.9237796021634, 96.1031435642715, 96.2746150603784, 96.4385413788628, 96.5952545265401, 96.7450719010897, 96.8882969338939, 97.0252197045902, 97.1561175285815, 97.2812555186947, 97.4008871221245, 97.5152546337510, 97.6245896868695, 97.7291137223269, 97.8290384370151, 97.9245662126300, 98.0158905255630, 98.1031963387570, 98.1866604763199, 98.2664519816534, 98.3427324598239, 98.4156564048679, 98.4853715126953, 98.5520189802240, 98.6157337913520, 98.6766449903459, 98.7348759431995, 98.7905445874922, 98.8437636712531, 98.8946409813141, 98.9432795616147, 98.9897779219021, 99.0342302372462, 99.0767265387768, 99.1173528960273, 99.1561915912549, 99.1933212860900, 99.2288171808537, 99.2627511668632, 99.2951919720368]\n",
      "Right endpoints:  [42.0158216660154, 44.5672715265493, 47.0064511682431, 49.3383007634410, 51.5675431044638, 53.6986931688772, 55.7360672638649, 57.6837917682251, 59.5458114896981, 61.3258976545499, 63.0276555455941, 64.6545318041220, 66.2098214105287, 67.6966743577747, 69.1181020311980, 70.4769833075986, 71.7760703859477, 73.0179943615313, 74.2052705548174, 75.3403036058394, 76.4253923444137, 77.4627344460561, 78.4544308830258, 79.4024901795117, 80.3088324795806, 81.1752934361253, 82.0036279286888, 82.7955136176950, 83.5525543422845, 84.2762833686372, 84.9681664953600, 85.6296050222297, 86.2619385883046, 86.8664478851507, 87.4443572506803, 87.9968371488543, 88.5250065402721, 89.0299351484489, 89.5126456263713, 89.9741156277196, 90.4152797869501, 90.8370316122495, 91.2402252951943, 91.6256774407804, 91.9941687213280, 92.3464454576089, 92.6832211304018, 93.0051778255345, 93.3129676153406, 93.6072138793292, 93.8885125667412, 94.1574334035499, 94.4145210463515, 94.6602961854803, 94.8952565995846, 95.1198781637987, 95.3346158135528, 95.5399044659725, 95.7361599007347, 95.9237796021634, 96.1031435642715, 96.2746150603784, 96.4385413788628, 96.5952545265401, 96.7450719010897, 96.8882969338939, 97.0252197045902, 97.1561175285815, 97.2812555186947, 97.4008871221245, 97.5152546337510, 97.6245896868695, 97.7291137223269, 97.8290384370151, 97.9245662126300, 98.0158905255630, 98.1031963387570, 98.1866604763199, 98.2664519816534, 98.3427324598239, 98.4156564048679, 98.4853715126953, 98.5520189802240, 98.6157337913520, 98.6766449903459, 98.7348759431995, 98.7905445874922, 98.8437636712531, 98.8946409813141, 98.9432795616147, 98.9897779219021, 99.0342302372462, 99.0767265387768, 99.1173528960273, 99.1561915912549, 99.1933212860900, 99.2288171808537, 99.2627511668632, 99.2951919720368, 99.3262053000915]\n"
     ]
    }
   ],
   "source": [
    "print(\"Left endpoints: \", ft_n[:-1])\n",
    "print(\"Right endpoints: \", ft_n[1:])"
   ]
  },
  {
   "cell_type": "code",
   "execution_count": 28,
   "metadata": {},
   "outputs": [
    {
     "name": "stdout",
     "output_type": "stream",
     "text": [
      "Left Approximation:  3886.61073964597\n",
      "Right Approximation:  3913.60141171808\n"
     ]
    }
   ],
   "source": [
    "L = (b-a)/n * sum(ft_n[:-1])\n",
    "R = (b-a)/n * sum(ft_n[1:])\n",
    "print(\"Left Approximation: \", L)\n",
    "print(\"Right Approximation: \", R)"
   ]
  },
  {
   "cell_type": "code",
   "execution_count": 29,
   "metadata": {
    "scrolled": true
   },
   "outputs": [
    {
     "ename": "SyntaxError",
     "evalue": "invalid syntax (<ipython-input-29-b26f5136ffdd>, line 4)",
     "output_type": "error",
     "traceback": [
      "\u001b[0;36m  File \u001b[0;32m\"<ipython-input-29-b26f5136ffdd>\"\u001b[0;36m, line \u001b[0;32m4\u001b[0m\n\u001b[0;31m    P_R = sum([plot(ft_n[i+Integer(1)], t, t_n[i], t_n[i+Integer(1)], color = \"green\") for i in r\u001b[0m\n\u001b[0m      ^\u001b[0m\n\u001b[0;31mSyntaxError\u001b[0m\u001b[0;31m:\u001b[0m invalid syntax\n"
     ]
    }
   ],
   "source": [
    "t=var('t')\n",
    "P_f = plot(f(t), t, a, b)\n",
    "P_L = sum([plot(ft_n[i], t, t_n[i], t_n[i+1], color = \"red\") for i in range\n",
    "P_R = sum([plot(ft_n[i+1], t, t_n[i], t_n[i+1], color = \"green\") for i in r\n",
    "show(P_f + P_L + P_R)"
   ]
  },
  {
   "cell_type": "code",
   "execution_count": 30,
   "metadata": {},
   "outputs": [],
   "source": [
    "def f(t): return 100*(1-(e)^(-0.1*t))\n",
    "a, b = 5,50\n",
    "n = 1000000"
   ]
  },
  {
   "cell_type": "code",
   "execution_count": 31,
   "metadata": {},
   "outputs": [],
   "source": [
    "#print(list(range(n)))\n",
    "#print([i/2 + 1 for i in range(n)])"
   ]
  },
  {
   "cell_type": "code",
   "execution_count": 32,
   "metadata": {},
   "outputs": [],
   "source": [
    "t_n = [a + (b-a)/n*i for i in range(n+1)]\n",
    "#print(t_n)"
   ]
  },
  {
   "cell_type": "code",
   "execution_count": 33,
   "metadata": {},
   "outputs": [],
   "source": [
    "ft_n = [f(i).n() for i in t_n]\n",
    "#print(ft_n)"
   ]
  },
  {
   "cell_type": "code",
   "execution_count": 34,
   "metadata": {},
   "outputs": [],
   "source": [
    "#print(\"Left endpoints: \", ft_n[:-1])\n",
    "#print(\"Right endpoints: \", ft_n[1:])"
   ]
  },
  {
   "cell_type": "code",
   "execution_count": 36,
   "metadata": {},
   "outputs": [
    {
     "name": "stdout",
     "output_type": "stream",
     "text": [
      "Left Approximation:  3900.20593775198\n",
      "Right Approximation:  3900.20863681919\n"
     ]
    }
   ],
   "source": [
    "L = (b-a)/n * sum(ft_n[:-1])\n",
    "R = (b-a)/n * sum(ft_n[1:])\n",
    "print(\"Left Approximation: \", L)\n",
    "print(\"Right Approximation: \", R)"
   ]
  },
  {
   "cell_type": "markdown",
   "metadata": {},
   "source": [
    "# Problem 3"
   ]
  },
  {
   "cell_type": "markdown",
   "metadata": {},
   "source": [
    "A) I found that 45 MPH is the same as 16.5 Feet per second. I used this to find T, which is 1.333. I then sybbed T into the equation and found that the car had traveled 73 feet after the speed was reduced to 30 MPH.\n",
    "\n",
    "B) I used the equation 66^2t+2(90)(-16.5) and converted it to MPH. After 90 feet, the car was traveling at 25 MPH.\n",
    "\n",
    "C) I used the equation 16.5x+66=0 and solved for x. It took the car 4 seconds to stop.\n",
    "\n",
    "D) To figure out how long it took to get halfway, I set VF^2 equal to 66t^2+2(66)(-16.5) and got a total of 46.68. I then set this equal to 16.5x+66 and found that it takes the car 1.17 seconds to get halfway."
   ]
  },
  {
   "cell_type": "markdown",
   "metadata": {},
   "source": [
    "# Problem 4"
   ]
  },
  {
   "cell_type": "markdown",
   "metadata": {},
   "source": [
    "A) (9.8/k^2)e^(-kt)+(9.8/k)t-(9.8/k^2)\n",
    "\n",
    "B) I got -.5246 but I was instructed by groupmates that there was an error so I used .01 instead\n",
    "\n",
    "C) At .01, I got 78.2 seconds when the tennis ball was dropped from 30,000 feet."
   ]
  },
  {
   "cell_type": "markdown",
   "metadata": {},
   "source": [
    "# Problem 5"
   ]
  },
  {
   "cell_type": "markdown",
   "metadata": {},
   "source": [
    "The power is at max when resistor 1 equals resistor 2"
   ]
  },
  {
   "cell_type": "code",
   "execution_count": null,
   "metadata": {},
   "outputs": [],
   "source": []
  }
 ],
 "metadata": {
  "kernelspec": {
   "display_name": "SageMath 9.1",
   "language": "sage",
   "name": "sagemath"
  },
  "language_info": {
   "codemirror_mode": {
    "name": "ipython",
    "version": 3
   },
   "file_extension": ".py",
   "mimetype": "text/x-python",
   "name": "python",
   "nbconvert_exporter": "python",
   "pygments_lexer": "ipython3",
   "version": "3.7.3"
  }
 },
 "nbformat": 4,
 "nbformat_minor": 2
}
