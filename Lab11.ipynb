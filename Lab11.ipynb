{
 "cells": [
  {
   "cell_type": "markdown",
   "metadata": {},
   "source": [
    "# Lab 11"
   ]
  },
  {
   "cell_type": "markdown",
   "metadata": {},
   "source": [
    "For this lab, only problems 1 & 2 require Sage.  You can submit your lab as a PDF of a Sage worksheet or as a Word Doc.  Your choice."
   ]
  },
  {
   "cell_type": "markdown",
   "metadata": {},
   "source": [
    "### Example of left and right partitions of a function.\n",
    "\n",
    "Say we have the function $f(x) = \\sqrt{2x}$ on the interval $[a,b] = [1,5]$ and we want to use $n = 4$ partitions.  Then we can define these things in Sage:"
   ]
  },
  {
   "cell_type": "code",
   "execution_count": 1,
   "metadata": {},
   "outputs": [],
   "source": [
    "def f(x): return sqrt(2*x)\n",
    "a, b = 1,5\n",
    "n = 4"
   ]
  },
  {
   "cell_type": "markdown",
   "metadata": {},
   "source": [
    "First, we need define the partition of $x$ values on $[a,b]$.  We're going to use Python list comprehension and the Python function `range()`.  You can see how these work in the cell below:"
   ]
  },
  {
   "cell_type": "code",
   "execution_count": 2,
   "metadata": {},
   "outputs": [
    {
     "name": "stdout",
     "output_type": "stream",
     "text": [
      "[0, 1, 2, 3]\n",
      "[1, 3/2, 2, 5/2]\n"
     ]
    }
   ],
   "source": [
    "print(list(range(n)))\n",
    "print([i/2 + 1 for i in range(n)])"
   ]
  },
  {
   "cell_type": "markdown",
   "metadata": {},
   "source": [
    "We'll create the endpoints of our partition with the code below:"
   ]
  },
  {
   "cell_type": "code",
   "execution_count": 3,
   "metadata": {},
   "outputs": [
    {
     "name": "stdout",
     "output_type": "stream",
     "text": [
      "[1, 2, 3, 4, 5]\n"
     ]
    }
   ],
   "source": [
    "x_n = [a + (b-a)/n*i for i in range(n+1)]\n",
    "print(x_n)"
   ]
  },
  {
   "cell_type": "markdown",
   "metadata": {},
   "source": [
    "### Problem 1:\n",
    "In a sentence or two, explain what each $a$, $b$, $n$, and $i$ is doing in the code above.  If you're not sure, try playing around with it and changing things in a different cell.\n",
    "\n",
    "Then we can compute $f(x)$ for each $x$ in our list"
   ]
  },
  {
   "cell_type": "code",
   "execution_count": 4,
   "metadata": {},
   "outputs": [
    {
     "name": "stdout",
     "output_type": "stream",
     "text": [
      "[1.41421356237310, 2.00000000000000, 2.44948974278318, 2.82842712474619, 3.16227766016838]\n"
     ]
    }
   ],
   "source": [
    "fx_n = [f(i).n() for i in x_n]\n",
    "print(fx_n)"
   ]
  },
  {
   "cell_type": "markdown",
   "metadata": {},
   "source": [
    "We can get only the left endpoints or only the right endpoints using Python list subsetting."
   ]
  },
  {
   "cell_type": "code",
   "execution_count": 5,
   "metadata": {},
   "outputs": [
    {
     "name": "stdout",
     "output_type": "stream",
     "text": [
      "Left endpoints:  [1.41421356237310, 2.00000000000000, 2.44948974278318, 2.82842712474619]\n",
      "Right endpoints:  [2.00000000000000, 2.44948974278318, 2.82842712474619, 3.16227766016838]\n"
     ]
    }
   ],
   "source": [
    "print(\"Left endpoints: \", fx_n[:-1])\n",
    "print(\"Right endpoints: \", fx_n[1:])"
   ]
  },
  {
   "cell_type": "markdown",
   "metadata": {},
   "source": [
    "Then we can use the handy-dandy `sum()` function from Python to add these all up.  Thus, the left and right approximations are:"
   ]
  },
  {
   "cell_type": "code",
   "execution_count": 6,
   "metadata": {},
   "outputs": [
    {
     "name": "stdout",
     "output_type": "stream",
     "text": [
      "Left Approximation:  8.69213042990246\n",
      "Right Approximation:  10.4401945276977\n"
     ]
    }
   ],
   "source": [
    "L = (b-a)/n * sum(fx_n[:-1])\n",
    "R = (b-a)/n * sum(fx_n[1:])\n",
    "print(\"Left Approximation: \", L)\n",
    "print(\"Right Approximation: \", R)"
   ]
  },
  {
   "cell_type": "markdown",
   "metadata": {},
   "source": [
    "We can graph our two approimations of $f(x)$ below"
   ]
  },
  {
   "cell_type": "code",
   "execution_count": 7,
   "metadata": {},
   "outputs": [
    {
     "data": {
      "image/png": "[encoded data removed]",
      "text/plain": [
       "Graphics object consisting of 9 graphics primitives"
      ]
     },
     "metadata": {},
     "output_type": "display_data"
    }
   ],
   "source": [
    "P_f = plot(f(x), x, a, b) \n",
    "P_L = sum([plot(fx_n[i], x, x_n[i], x_n[i+1], color = \"red\") for i in range(n)])\n",
    "P_R = sum([plot(fx_n[i+1], x, x_n[i], x_n[i+1], color = \"green\") for i in range(n)])\n",
    "show(P_f + P_L + P_R)"
   ]
  },
  {
   "cell_type": "markdown",
   "metadata": {},
   "source": [
    "### Problem 2:\n",
    "The velocity a particular falling object with wind resistence is approximately $v(t) = 100(1 - e^{-0.1t})$ m/s.  The object falls for 50 seconds.  Use left and right approximations to calculate how far it fell for the following number of partitions.  Give yours answers in your lab report by telling me L, R, and posting the graph.\n",
    " \n",
    "(a) $n= 10$\n",
    "\n",
    "(b) $n = 100$\n",
    "\n",
    "(c) Find a value of $n$ such that $R$ and $L$ differ by less than $0.001$.  You don't need to to plot this one, just tell me the $n$ you used and your values of $L$ and $R$."
   ]
  },
  {
   "cell_type": "markdown",
   "metadata": {},
   "source": [
    "### Problem 3\n",
    "For this problem, it is okay to do it by hand or a combination of by-hand and Sage.\n",
    "\n",
    "A car travelling at 45mph is brought to a stop, at constant deceleration, 132 ft. from where the brakes are applied.\n",
    "\n",
    "a.\tHow far has the car moved when its speed has been reduced to 30 mph?\n",
    "\n",
    "b.\tHow fast was the car going after 90 ft.?\n",
    "\n",
    "c.\tHow long until the car stops?\n",
    "\n",
    "d.\tHow long until the car reaches the half way point?"
   ]
  },
  {
   "cell_type": "markdown",
   "metadata": {},
   "source": [
    "### Problem 4\n",
    "\n",
    "If a falling object experiences linear air resistance, then it has acceleration $a(t) = ge^{-kt}$ where $g$ is the gravitational constant, which is $32 \\text{ft}/\\text{s}^2$ or $9.8 \\text{m}/\\text{s}^2$ and $k$ is a constant dependent on the object.\n",
    "\n",
    "Let's determine the air resistance constant $k$ for a tennis ball.\n",
    "\n",
    "(a)  Integrate acceleration twice to get a possible position function.  Initial velocity will be zero if you drop the ball.  Mark your initial poisition at zero.\n",
    "\n",
    "(b) Drop a tennis ball from various heights, and time how long it takes to hit the floor.  Fit your answer to part (a) to your data to determine $k$.\n",
    "\n",
    "(c) A tennis ball falls out of an airplane while the airplane is flying at 30,000 feet.  Use your answer from (b) to estimate how long it will take the tennis ball to hit the ground."
   ]
  },
  {
   "cell_type": "markdown",
   "metadata": {},
   "source": [
    "### Problem 5\n",
    "The electric power P in watts in a direct-current circuit with two resistors $R_1$ and $R_2$ connected in parallel is\n",
    "$$\n",
    "\t\tP = \\frac{VR_1 R_2}{(R_1+R_2 )^2}\n",
    "$$\n",
    "\t\tWhere $V$ is the voltage.  If $V$ and $R_1$ are held constant, what resistance $R_2$ produces maximum power?"
   ]
  }
 ],
 "metadata": {
  "kernelspec": {
   "display_name": "SageMath 9.0",
   "language": "sage",
   "name": "sagemath"
  },
  "language_info": {
   "codemirror_mode": {
    "name": "ipython",
    "version": 3
   },
   "file_extension": ".py",
   "mimetype": "text/x-python",
   "name": "python",
   "nbconvert_exporter": "python",
   "pygments_lexer": "ipython3",
   "version": "3.7.3"
  }
 },
 "nbformat": 4,
 "nbformat_minor": 2
}
