{
 "cells": [
  {
   "cell_type": "markdown",
   "metadata": {},
   "source": [
    "# Lab Practical\n",
    "## Kate Sperry"
   ]
  },
  {
   "cell_type": "code",
   "execution_count": 39,
   "metadata": {},
   "outputs": [
    {
     "data": {
      "text/plain": [
       "35.1406926327793"
      ]
     },
     "execution_count": 39,
     "metadata": {},
     "output_type": "execute_result"
    }
   ],
   "source": [
    "( e^pi+2*(5+1) ).n()"
   ]
  },
  {
   "cell_type": "code",
   "execution_count": 8,
   "metadata": {},
   "outputs": [
    {
     "data": {
      "text/plain": [
       "[x == (-1/2*I + 3/2), x == (1/2*I + 3/2)]"
      ]
     },
     "execution_count": 8,
     "metadata": {},
     "output_type": "execute_result"
    }
   ],
   "source": [
    "f(x) = (2*x^2-6*x+5)/(x-3)\n",
    "solve(f == 0, x)"
   ]
  },
  {
   "cell_type": "code",
   "execution_count": 10,
   "metadata": {},
   "outputs": [
    {
     "ename": "RuntimeError",
     "evalue": "f appears to have no zero on the interval",
     "output_type": "error",
     "traceback": [
      "\u001b[0;31m---------------------------------------------------------------------------\u001b[0m",
      "\u001b[0;31mRuntimeError\u001b[0m                              Traceback (most recent call last)",
      "\u001b[0;32m<ipython-input-10-6cc9549f1060>\u001b[0m in \u001b[0;36m<module>\u001b[0;34m()\u001b[0m\n\u001b[0;32m----> 1\u001b[0;31m \u001b[0mfind_root\u001b[0m\u001b[0;34m(\u001b[0m\u001b[0mf\u001b[0m \u001b[0;34m==\u001b[0m \u001b[0mInteger\u001b[0m\u001b[0;34m(\u001b[0m\u001b[0;36m0\u001b[0m\u001b[0;34m)\u001b[0m\u001b[0;34m,\u001b[0m \u001b[0;34m-\u001b[0m\u001b[0mInteger\u001b[0m\u001b[0;34m(\u001b[0m\u001b[0;36m2\u001b[0m\u001b[0;34m)\u001b[0m\u001b[0;34m,\u001b[0m \u001b[0mInteger\u001b[0m\u001b[0;34m(\u001b[0m\u001b[0;36m0\u001b[0m\u001b[0;34m)\u001b[0m\u001b[0;34m)\u001b[0m\u001b[0;34m\u001b[0m\u001b[0;34m\u001b[0m\u001b[0m\n\u001b[0m",
      "\u001b[0;32m/opt/sagemath-9.0/local/lib/python3.7/site-packages/sage/misc/lazy_import.pyx\u001b[0m in \u001b[0;36msage.misc.lazy_import.LazyImport.__call__ (build/cythonized/sage/misc/lazy_import.c:3686)\u001b[0;34m()\u001b[0m\n\u001b[1;32m    351\u001b[0m             \u001b[0;32mTrue\u001b[0m\u001b[0;34m\u001b[0m\u001b[0;34m\u001b[0m\u001b[0m\n\u001b[1;32m    352\u001b[0m         \"\"\"\n\u001b[0;32m--> 353\u001b[0;31m         \u001b[0;32mreturn\u001b[0m \u001b[0mself\u001b[0m\u001b[0;34m.\u001b[0m\u001b[0mget_object\u001b[0m\u001b[0;34m(\u001b[0m\u001b[0;34m)\u001b[0m\u001b[0;34m(\u001b[0m\u001b[0;34m*\u001b[0m\u001b[0margs\u001b[0m\u001b[0;34m,\u001b[0m \u001b[0;34m**\u001b[0m\u001b[0mkwds\u001b[0m\u001b[0;34m)\u001b[0m\u001b[0;34m\u001b[0m\u001b[0;34m\u001b[0m\u001b[0m\n\u001b[0m\u001b[1;32m    354\u001b[0m \u001b[0;34m\u001b[0m\u001b[0m\n\u001b[1;32m    355\u001b[0m     \u001b[0;32mdef\u001b[0m \u001b[0m__repr__\u001b[0m\u001b[0;34m(\u001b[0m\u001b[0mself\u001b[0m\u001b[0;34m)\u001b[0m\u001b[0;34m:\u001b[0m\u001b[0;34m\u001b[0m\u001b[0;34m\u001b[0m\u001b[0m\n",
      "\u001b[0;32m/opt/sagemath-9.0/local/lib/python3.7/site-packages/sage/numerical/optimize.py\u001b[0m in \u001b[0;36mfind_root\u001b[0;34m(f, a, b, xtol, rtol, maxiter, full_output)\u001b[0m\n\u001b[1;32m    104\u001b[0m     \"\"\"\n\u001b[1;32m    105\u001b[0m     \u001b[0;32mtry\u001b[0m\u001b[0;34m:\u001b[0m\u001b[0;34m\u001b[0m\u001b[0;34m\u001b[0m\u001b[0m\n\u001b[0;32m--> 106\u001b[0;31m         \u001b[0;32mreturn\u001b[0m \u001b[0mf\u001b[0m\u001b[0;34m.\u001b[0m\u001b[0mfind_root\u001b[0m\u001b[0;34m(\u001b[0m\u001b[0ma\u001b[0m\u001b[0;34m=\u001b[0m\u001b[0ma\u001b[0m\u001b[0;34m,\u001b[0m\u001b[0mb\u001b[0m\u001b[0;34m=\u001b[0m\u001b[0mb\u001b[0m\u001b[0;34m,\u001b[0m\u001b[0mxtol\u001b[0m\u001b[0;34m=\u001b[0m\u001b[0mxtol\u001b[0m\u001b[0;34m,\u001b[0m\u001b[0mrtol\u001b[0m\u001b[0;34m=\u001b[0m\u001b[0mrtol\u001b[0m\u001b[0;34m,\u001b[0m\u001b[0mmaxiter\u001b[0m\u001b[0;34m=\u001b[0m\u001b[0mmaxiter\u001b[0m\u001b[0;34m,\u001b[0m\u001b[0mfull_output\u001b[0m\u001b[0;34m=\u001b[0m\u001b[0mfull_output\u001b[0m\u001b[0;34m)\u001b[0m\u001b[0;34m\u001b[0m\u001b[0;34m\u001b[0m\u001b[0m\n\u001b[0m\u001b[1;32m    107\u001b[0m     \u001b[0;32mexcept\u001b[0m \u001b[0mAttributeError\u001b[0m\u001b[0;34m:\u001b[0m\u001b[0;34m\u001b[0m\u001b[0;34m\u001b[0m\u001b[0m\n\u001b[1;32m    108\u001b[0m         \u001b[0;32mpass\u001b[0m\u001b[0;34m\u001b[0m\u001b[0;34m\u001b[0m\u001b[0m\n",
      "\u001b[0;32m/opt/sagemath-9.0/local/lib/python3.7/site-packages/sage/symbolic/expression.pyx\u001b[0m in \u001b[0;36msage.symbolic.expression.Expression.find_root (build/cythonized/sage/symbolic/expression.cpp:61866)\u001b[0;34m()\u001b[0m\n\u001b[1;32m  11808\u001b[0m         \u001b[0;32melif\u001b[0m \u001b[0mself\u001b[0m\u001b[0;34m.\u001b[0m\u001b[0mnumber_of_arguments\u001b[0m\u001b[0;34m(\u001b[0m\u001b[0;34m)\u001b[0m \u001b[0;34m==\u001b[0m \u001b[0;36m1\u001b[0m\u001b[0;34m:\u001b[0m\u001b[0;34m\u001b[0m\u001b[0;34m\u001b[0m\u001b[0m\n\u001b[1;32m  11809\u001b[0m             \u001b[0mf\u001b[0m \u001b[0;34m=\u001b[0m \u001b[0mself\u001b[0m\u001b[0;34m.\u001b[0m\u001b[0m_fast_float_\u001b[0m\u001b[0;34m(\u001b[0m\u001b[0mself\u001b[0m\u001b[0;34m.\u001b[0m\u001b[0mdefault_variable\u001b[0m\u001b[0;34m(\u001b[0m\u001b[0;34m)\u001b[0m\u001b[0;34m)\u001b[0m\u001b[0;34m\u001b[0m\u001b[0;34m\u001b[0m\u001b[0m\n\u001b[0;32m> 11810\u001b[0;31m             return find_root(f, a=a, b=b, xtol=xtol,\n\u001b[0m\u001b[1;32m  11811\u001b[0m                              \u001b[0mrtol\u001b[0m\u001b[0;34m=\u001b[0m\u001b[0mrtol\u001b[0m\u001b[0;34m,\u001b[0m\u001b[0mmaxiter\u001b[0m\u001b[0;34m=\u001b[0m\u001b[0mmaxiter\u001b[0m\u001b[0;34m,\u001b[0m\u001b[0;34m\u001b[0m\u001b[0;34m\u001b[0m\u001b[0m\n\u001b[1;32m  11812\u001b[0m                              full_output=full_output)\n",
      "\u001b[0;32m/opt/sagemath-9.0/local/lib/python3.7/site-packages/sage/numerical/optimize.py\u001b[0m in \u001b[0;36mfind_root\u001b[0;34m(f, a, b, xtol, rtol, maxiter, full_output)\u001b[0m\n\u001b[1;32m    137\u001b[0m                 \u001b[0;32melse\u001b[0m\u001b[0;34m:\u001b[0m\u001b[0;34m\u001b[0m\u001b[0;34m\u001b[0m\u001b[0m\n\u001b[1;32m    138\u001b[0m                     \u001b[0;32mreturn\u001b[0m \u001b[0ms\u001b[0m\u001b[0;34m\u001b[0m\u001b[0;34m\u001b[0m\u001b[0m\n\u001b[0;32m--> 139\u001b[0;31m             \u001b[0;32mraise\u001b[0m \u001b[0mRuntimeError\u001b[0m\u001b[0;34m(\u001b[0m\u001b[0;34m\"f appears to have no zero on the interval\"\u001b[0m\u001b[0;34m)\u001b[0m\u001b[0;34m\u001b[0m\u001b[0;34m\u001b[0m\u001b[0m\n\u001b[0m\u001b[1;32m    140\u001b[0m         \u001b[0ma\u001b[0m \u001b[0;34m=\u001b[0m \u001b[0ms\u001b[0m\u001b[0;34m\u001b[0m\u001b[0;34m\u001b[0m\u001b[0m\n\u001b[1;32m    141\u001b[0m \u001b[0;34m\u001b[0m\u001b[0m\n",
      "\u001b[0;31mRuntimeError\u001b[0m: f appears to have no zero on the interval"
     ]
    }
   ],
   "source": [
    "find_root(f == 0, -2, 0)"
   ]
  },
  {
   "cell_type": "code",
   "execution_count": 11,
   "metadata": {},
   "outputs": [
    {
     "data": {
      "text/plain": [
       "-5/3"
      ]
     },
     "execution_count": 11,
     "metadata": {},
     "output_type": "execute_result"
    }
   ],
   "source": [
    "f(0)"
   ]
  },
  {
   "cell_type": "code",
   "execution_count": 12,
   "metadata": {},
   "outputs": [
    {
     "data": {
      "text/plain": [
       "[x == -1/2*sqrt(10) + 3, x == 1/2*sqrt(10) + 3]"
      ]
     },
     "execution_count": 12,
     "metadata": {},
     "output_type": "execute_result"
    }
   ],
   "source": [
    "solve( diff(f, x) == 0, x)"
   ]
  },
  {
   "cell_type": "code",
   "execution_count": 13,
   "metadata": {},
   "outputs": [
    {
     "data": {
      "text/plain": [
       "-10/27"
      ]
     },
     "execution_count": 13,
     "metadata": {},
     "output_type": "execute_result"
    }
   ],
   "source": [
    "f2 = diff(f, x, 2)\n",
    "f2(0)"
   ]
  },
  {
   "cell_type": "code",
   "execution_count": 14,
   "metadata": {},
   "outputs": [
    {
     "data": {
      "text/plain": [
       "[x == (-1/2*I + 3/2), x == (1/2*I + 3/2)]"
      ]
     },
     "execution_count": 14,
     "metadata": {},
     "output_type": "execute_result"
    }
   ],
   "source": [
    "solve((2*x^2-6*x+5)/(x-3) == 0, x)"
   ]
  },
  {
   "cell_type": "code",
   "execution_count": 15,
   "metadata": {},
   "outputs": [
    {
     "data": {
      "text/plain": [
       "x |--> +Infinity"
      ]
     },
     "execution_count": 15,
     "metadata": {},
     "output_type": "execute_result"
    }
   ],
   "source": [
    "limit(f, x =+infinity)"
   ]
  },
  {
   "cell_type": "code",
   "execution_count": 16,
   "metadata": {},
   "outputs": [
    {
     "data": {
      "text/plain": [
       "x |--> -Infinity"
      ]
     },
     "execution_count": 16,
     "metadata": {},
     "output_type": "execute_result"
    }
   ],
   "source": [
    "limit(f, x=-infinity)"
   ]
  },
  {
   "cell_type": "code",
   "execution_count": 51,
   "metadata": {},
   "outputs": [
    {
     "data": {
      "image/png": "[encoded data removed]",
      "text/plain": [
       "Graphics object consisting of 1 graphics primitive"
      ]
     },
     "metadata": {},
     "output_type": "display_data"
    }
   ],
   "source": [
    "P_f = plot((2*x^2-6*x+5)/(x-3), x, 0, 2)\n",
    "show(P_f)"
   ]
  },
  {
   "cell_type": "code",
   "execution_count": 27,
   "metadata": {},
   "outputs": [],
   "source": [
    "def f(x): return sin(x)*e^-x^2\n",
    "a, b = 1,5\n",
    "n = 100"
   ]
  },
  {
   "cell_type": "code",
   "execution_count": 28,
   "metadata": {},
   "outputs": [
    {
     "name": "stdout",
     "output_type": "stream",
     "text": [
      "[0, 1, 2, 3, 4, 5, 6, 7, 8, 9, 10, 11, 12, 13, 14, 15, 16, 17, 18, 19, 20, 21, 22, 23, 24, 25, 26, 27, 28, 29, 30, 31, 32, 33, 34, 35, 36, 37, 38, 39, 40, 41, 42, 43, 44, 45, 46, 47, 48, 49, 50, 51, 52, 53, 54, 55, 56, 57, 58, 59, 60, 61, 62, 63, 64, 65, 66, 67, 68, 69, 70, 71, 72, 73, 74, 75, 76, 77, 78, 79, 80, 81, 82, 83, 84, 85, 86, 87, 88, 89, 90, 91, 92, 93, 94, 95, 96, 97, 98, 99]\n",
      "[1, 3/2, 2, 5/2, 3, 7/2, 4, 9/2, 5, 11/2, 6, 13/2, 7, 15/2, 8, 17/2, 9, 19/2, 10, 21/2, 11, 23/2, 12, 25/2, 13, 27/2, 14, 29/2, 15, 31/2, 16, 33/2, 17, 35/2, 18, 37/2, 19, 39/2, 20, 41/2, 21, 43/2, 22, 45/2, 23, 47/2, 24, 49/2, 25, 51/2, 26, 53/2, 27, 55/2, 28, 57/2, 29, 59/2, 30, 61/2, 31, 63/2, 32, 65/2, 33, 67/2, 34, 69/2, 35, 71/2, 36, 73/2, 37, 75/2, 38, 77/2, 39, 79/2, 40, 81/2, 41, 83/2, 42, 85/2, 43, 87/2, 44, 89/2, 45, 91/2, 46, 93/2, 47, 95/2, 48, 97/2, 49, 99/2, 50, 101/2]\n"
     ]
    }
   ],
   "source": [
    "print([i for i in range(n) ])\n",
    "print([i/2 + 1 for i in range(n)])"
   ]
  },
  {
   "cell_type": "code",
   "execution_count": 29,
   "metadata": {},
   "outputs": [
    {
     "name": "stdout",
     "output_type": "stream",
     "text": [
      "[1, 26/25, 27/25, 28/25, 29/25, 6/5, 31/25, 32/25, 33/25, 34/25, 7/5, 36/25, 37/25, 38/25, 39/25, 8/5, 41/25, 42/25, 43/25, 44/25, 9/5, 46/25, 47/25, 48/25, 49/25, 2, 51/25, 52/25, 53/25, 54/25, 11/5, 56/25, 57/25, 58/25, 59/25, 12/5, 61/25, 62/25, 63/25, 64/25, 13/5, 66/25, 67/25, 68/25, 69/25, 14/5, 71/25, 72/25, 73/25, 74/25, 3, 76/25, 77/25, 78/25, 79/25, 16/5, 81/25, 82/25, 83/25, 84/25, 17/5, 86/25, 87/25, 88/25, 89/25, 18/5, 91/25, 92/25, 93/25, 94/25, 19/5, 96/25, 97/25, 98/25, 99/25, 4, 101/25, 102/25, 103/25, 104/25, 21/5, 106/25, 107/25, 108/25, 109/25, 22/5, 111/25, 112/25, 113/25, 114/25, 23/5, 116/25, 117/25, 118/25, 119/25, 24/5, 121/25, 122/25, 123/25, 124/25, 5]\n"
     ]
    }
   ],
   "source": [
    "x_n = [a + (b-a)/n*i for i in range(n+1)]\n",
    "print(x_n)"
   ]
  },
  {
   "cell_type": "code",
   "execution_count": 30,
   "metadata": {},
   "outputs": [
    {
     "name": "stdout",
     "output_type": "stream",
     "text": [
      "[0.309559875653112, 0.292400401754106, 0.274717752721139, 0.256750901375578, 0.238720338942892, 0.220825931642348, 0.203245419642334, 0.186133532622540, 0.169621681519360, 0.153818174091154, 0.138808892863245, 0.124658367813984, 0.111411172747751, 0.0990935734783959, 0.0877153574509864, 0.0772717779370975, 0.0677455510887231, 0.0591088505493526, 0.0513252516188460, 0.0443515847874897, 0.0381396664581107, 0.0326378825654309, 0.0277926083259767, 0.0235494543058786, 0.0198543352242381, 0.0166543633121944, 0.0138985725644791, 0.0115384838348930, 0.00952852345952665, 0.00782630999098311, 0.00639282476552042, 0.00519248249134697, 0.00419311793872497, 0.00336590423390758, 0.00268521731161033, 0.00212845986255690, 0.00167585671389390, 0.00131023208134385, 0.00101677760201941, 0.000782818553101594, 0.000597584229403280, 0.000451987126062069, 0.000338414374544427, 0.000250533824712573, 0.000183116258772145, 0.000131874463702694, 0.0000933192712603720, 0.0000646321889208313, 0.0000435538786141176, 0.0000282874786077099, 0.0000174155925473789, 9.82967365038414e-6, 4.67049717140445e-6, 1.27842738347440e-6, -8.47765387601282e-7, -2.08470700718842e-6, -2.71191822500611e-6, -2.93398508126704e-6, -2.89827048456174e-6, -2.70893125161009e-6, -2.43790373410213e-6, -2.13342635834542e-6, -1.82658048806161e-6, -1.53625282251561e-6, -1.27285335454771e-6, -1.04106262039280e-6, -8.41830164572916e-7, -6.73802208555987e-7, -5.34319720550729e-7, -4.20097646690000e-7, -3.27671181188172e-7, -2.53674849232000e-7, -1.95004123916758e-7, -1.48896633274408e-7, -1.12960142501552e-7, -8.51669010374490e-8, -6.38281780557870e-8, -4.75584958214714e-8, -3.52358937792586e-8, -2.59622589635493e-8, -1.90261312643275e-8, -1.38692682909774e-8, -1.00575025594716e-8, -7.25594140126904e-9, -5.20826924576003e-9, -3.71975392075288e-9, -2.64348975635816e-9, -1.86939886681811e-9, -1.31553545210939e-9, -9.21280633440756e-10, -6.42066662352696e-10, -4.45322501524353e-10, -3.07383606815132e-10, -2.11154934730116e-10, -1.44356694641148e-10, -9.82169051542238e-11, -6.65036367662569e-11, -4.48134412282119e-11, -3.00515225676058e-11, -2.00543689565934e-11, -1.33174864972730e-11]\n"
     ]
    }
   ],
   "source": [
    "fx_n = [f(i).n() for i in x_n]\n",
    "print(fx_n)"
   ]
  },
  {
   "cell_type": "code",
   "execution_count": 31,
   "metadata": {},
   "outputs": [
    {
     "name": "stdout",
     "output_type": "stream",
     "text": [
      "Left endpoints:  [0.309559875653112, 0.292400401754106, 0.274717752721139, 0.256750901375578, 0.238720338942892, 0.220825931642348, 0.203245419642334, 0.186133532622540, 0.169621681519360, 0.153818174091154, 0.138808892863245, 0.124658367813984, 0.111411172747751, 0.0990935734783959, 0.0877153574509864, 0.0772717779370975, 0.0677455510887231, 0.0591088505493526, 0.0513252516188460, 0.0443515847874897, 0.0381396664581107, 0.0326378825654309, 0.0277926083259767, 0.0235494543058786, 0.0198543352242381, 0.0166543633121944, 0.0138985725644791, 0.0115384838348930, 0.00952852345952665, 0.00782630999098311, 0.00639282476552042, 0.00519248249134697, 0.00419311793872497, 0.00336590423390758, 0.00268521731161033, 0.00212845986255690, 0.00167585671389390, 0.00131023208134385, 0.00101677760201941, 0.000782818553101594, 0.000597584229403280, 0.000451987126062069, 0.000338414374544427, 0.000250533824712573, 0.000183116258772145, 0.000131874463702694, 0.0000933192712603720, 0.0000646321889208313, 0.0000435538786141176, 0.0000282874786077099, 0.0000174155925473789, 9.82967365038414e-6, 4.67049717140445e-6, 1.27842738347440e-6, -8.47765387601282e-7, -2.08470700718842e-6, -2.71191822500611e-6, -2.93398508126704e-6, -2.89827048456174e-6, -2.70893125161009e-6, -2.43790373410213e-6, -2.13342635834542e-6, -1.82658048806161e-6, -1.53625282251561e-6, -1.27285335454771e-6, -1.04106262039280e-6, -8.41830164572916e-7, -6.73802208555987e-7, -5.34319720550729e-7, -4.20097646690000e-7, -3.27671181188172e-7, -2.53674849232000e-7, -1.95004123916758e-7, -1.48896633274408e-7, -1.12960142501552e-7, -8.51669010374490e-8, -6.38281780557870e-8, -4.75584958214714e-8, -3.52358937792586e-8, -2.59622589635493e-8, -1.90261312643275e-8, -1.38692682909774e-8, -1.00575025594716e-8, -7.25594140126904e-9, -5.20826924576003e-9, -3.71975392075288e-9, -2.64348975635816e-9, -1.86939886681811e-9, -1.31553545210939e-9, -9.21280633440756e-10, -6.42066662352696e-10, -4.45322501524353e-10, -3.07383606815132e-10, -2.11154934730116e-10, -1.44356694641148e-10, -9.82169051542238e-11, -6.65036367662569e-11, -4.48134412282119e-11, -3.00515225676058e-11, -2.00543689565934e-11]\n",
      "Right endpoints:  [0.292400401754106, 0.274717752721139, 0.256750901375578, 0.238720338942892, 0.220825931642348, 0.203245419642334, 0.186133532622540, 0.169621681519360, 0.153818174091154, 0.138808892863245, 0.124658367813984, 0.111411172747751, 0.0990935734783959, 0.0877153574509864, 0.0772717779370975, 0.0677455510887231, 0.0591088505493526, 0.0513252516188460, 0.0443515847874897, 0.0381396664581107, 0.0326378825654309, 0.0277926083259767, 0.0235494543058786, 0.0198543352242381, 0.0166543633121944, 0.0138985725644791, 0.0115384838348930, 0.00952852345952665, 0.00782630999098311, 0.00639282476552042, 0.00519248249134697, 0.00419311793872497, 0.00336590423390758, 0.00268521731161033, 0.00212845986255690, 0.00167585671389390, 0.00131023208134385, 0.00101677760201941, 0.000782818553101594, 0.000597584229403280, 0.000451987126062069, 0.000338414374544427, 0.000250533824712573, 0.000183116258772145, 0.000131874463702694, 0.0000933192712603720, 0.0000646321889208313, 0.0000435538786141176, 0.0000282874786077099, 0.0000174155925473789, 9.82967365038414e-6, 4.67049717140445e-6, 1.27842738347440e-6, -8.47765387601282e-7, -2.08470700718842e-6, -2.71191822500611e-6, -2.93398508126704e-6, -2.89827048456174e-6, -2.70893125161009e-6, -2.43790373410213e-6, -2.13342635834542e-6, -1.82658048806161e-6, -1.53625282251561e-6, -1.27285335454771e-6, -1.04106262039280e-6, -8.41830164572916e-7, -6.73802208555987e-7, -5.34319720550729e-7, -4.20097646690000e-7, -3.27671181188172e-7, -2.53674849232000e-7, -1.95004123916758e-7, -1.48896633274408e-7, -1.12960142501552e-7, -8.51669010374490e-8, -6.38281780557870e-8, -4.75584958214714e-8, -3.52358937792586e-8, -2.59622589635493e-8, -1.90261312643275e-8, -1.38692682909774e-8, -1.00575025594716e-8, -7.25594140126904e-9, -5.20826924576003e-9, -3.71975392075288e-9, -2.64348975635816e-9, -1.86939886681811e-9, -1.31553545210939e-9, -9.21280633440756e-10, -6.42066662352696e-10, -4.45322501524353e-10, -3.07383606815132e-10, -2.11154934730116e-10, -1.44356694641148e-10, -9.82169051542238e-11, -6.65036367662569e-11, -4.48134412282119e-11, -3.00515225676058e-11, -2.00543689565934e-11, -1.33174864972730e-11]\n"
     ]
    }
   ],
   "source": [
    "print(\"Left endpoints: \", fx_n[:-1])\n",
    "print(\"Right endpoints: \", fx_n[1:])"
   ]
  },
  {
   "cell_type": "code",
   "execution_count": 32,
   "metadata": {},
   "outputs": [
    {
     "name": "stdout",
     "output_type": "stream",
     "text": [
      "Left Approximation:  0.135985460464793\n",
      "Right Approximation:  0.123603065438135\n"
     ]
    }
   ],
   "source": [
    "L = (b-a)/n * sum(fx_n[:-1])\n",
    "R= (b-a)/n * sum(fx_n[1:])\n",
    "print(\"Left Approximation: \", L)\n",
    "print(\"Right Approximation: \", R)"
   ]
  },
  {
   "cell_type": "code",
   "execution_count": null,
   "metadata": {},
   "outputs": [],
   "source": []
  }
 ],
 "metadata": {
  "kernelspec": {
   "display_name": "SageMath 9.0",
   "language": "sage",
   "name": "sagemath"
  },
  "language_info": {
   "codemirror_mode": {
    "name": "ipython",
    "version": 3
   },
   "file_extension": ".py",
   "mimetype": "text/x-python",
   "name": "python",
   "nbconvert_exporter": "python",
   "pygments_lexer": "ipython3",
   "version": "3.7.3"
  }
 },
 "nbformat": 4,
 "nbformat_minor": 2
}
