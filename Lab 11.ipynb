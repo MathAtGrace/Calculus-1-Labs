{
 "cells": [
  {
   "cell_type": "markdown",
   "metadata": {},
   "source": [
    "# Lab 11"
   ]
  },
  {
   "cell_type": "markdown",
   "metadata": {},
   "source": [
    "### Example of left and right partitions of a function.\n",
    "\n",
    "Say we have the function $f(x) = \\sqrt{2x}$ on the interval $[a,b] = [0,3]$ and we want to use $n = 6$ partitions.  Then we can define these things in Sage:"
   ]
  },
  {
   "cell_type": "code",
   "execution_count": 42,
   "metadata": {},
   "outputs": [],
   "source": [
    "def f(x): return sqrt(2*x)\n",
    "a, b = 1,5\n",
    "n = 4"
   ]
  },
  {
   "cell_type": "markdown",
   "metadata": {},
   "source": [
    "The first we thing we need to do is define the partition of $x$ values on $[a,b]$.  We're going to use Python list comprehension the the Python function `range()`.  You can see how these work in the cell below:"
   ]
  },
  {
   "cell_type": "code",
   "execution_count": 43,
   "metadata": {},
   "outputs": [
    {
     "name": "stdout",
     "output_type": "stream",
     "text": [
      "[0, 1, 2, 3]\n",
      "[1, 3/2, 2, 5/2]\n"
     ]
    }
   ],
   "source": [
    "print(list(range(n)))\n",
    "print([i/2 + 1 for i in range(n)])"
   ]
  },
  {
   "cell_type": "markdown",
   "metadata": {},
   "source": [
    "We'll create the endpoints of our partition with the code below:"
   ]
  },
  {
   "cell_type": "code",
   "execution_count": 44,
   "metadata": {},
   "outputs": [
    {
     "name": "stdout",
     "output_type": "stream",
     "text": [
      "[1, 2, 3, 4, 5]\n"
     ]
    }
   ],
   "source": [
    "x_n = [a + (b-a)/n*i for i in range(n+1)]\n",
    "print(x_n)"
   ]
  },
  {
   "cell_type": "markdown",
   "metadata": {},
   "source": [
    "### Problem 1:\n",
    "In a sentence or two, explain what each $a$, $b$, $n$, and $i$ is doing in the code above.  If you're not sure, try playing around with it and changing things in a different cell.\n",
    "\n",
    "Then we can compute $f(x)$ for each $x$ in our list"
   ]
  },
  {
   "cell_type": "code",
   "execution_count": 45,
   "metadata": {},
   "outputs": [
    {
     "name": "stdout",
     "output_type": "stream",
     "text": [
      "[1.41421356237310, 2.00000000000000, 2.44948974278318, 2.82842712474619, 3.16227766016838]\n"
     ]
    }
   ],
   "source": [
    "fx_n = [f(i).n() for i in x_n]\n",
    "print(fx_n)"
   ]
  },
  {
   "cell_type": "markdown",
   "metadata": {},
   "source": [
    "We can get only the left endpoints or only the right endpoints using Python list subsetting."
   ]
  },
  {
   "cell_type": "code",
   "execution_count": 46,
   "metadata": {},
   "outputs": [
    {
     "name": "stdout",
     "output_type": "stream",
     "text": [
      "Left endpoints:  [1.41421356237310, 2.00000000000000, 2.44948974278318, 2.82842712474619]\n",
      "Right endpoints:  [2.00000000000000, 2.44948974278318, 2.82842712474619, 3.16227766016838]\n"
     ]
    }
   ],
   "source": [
    "print(\"Left endpoints: \", fx_n[:-1])\n",
    "print(\"Right endpoints: \", fx_n[1:])"
   ]
  },
  {
   "cell_type": "markdown",
   "metadata": {},
   "source": [
    "Then we can use the handy-dandy `sum()` function from Python to add these all up.  Thus, the left and right approximations are:"
   ]
  },
  {
   "cell_type": "code",
   "execution_count": 47,
   "metadata": {},
   "outputs": [
    {
     "name": "stdout",
     "output_type": "stream",
     "text": [
      "Left Approximation:  8.69213042990246\n",
      "Right Approximation:  10.4401945276977\n"
     ]
    }
   ],
   "source": [
    "L = (b-a)/n * (sum(fx_n[:-1]))\n",
    "R = (b-a)/n * sum(fx_n[1:])\n",
    "print(\"Left Approximation: \", L)\n",
    "print(\"Right Approximation: \", R)"
   ]
  },
  {
   "cell_type": "markdown",
   "metadata": {},
   "source": [
    "We can graph our two approimations of $f(x)$ below"
   ]
  },
  {
   "cell_type": "code",
   "execution_count": 48,
   "metadata": {},
   "outputs": [
    {
     "data": {
      "image/png": "[encoded data removed]",
      "text/plain": [
       "Graphics object consisting of 9 graphics primitives"
      ]
     },
     "metadata": {},
     "output_type": "display_data"
    }
   ],
   "source": [
    "P_f = plot(f(x), x, a, b) \n",
    "P_L = sum([plot(fx_n[i], x, x_n[i], x_n[i+1], color = \"red\") for i in range(n)])\n",
    "P_R = sum([plot(fx_n[i+1], x, x_n[i], x_n[i+1], color = \"green\") for i in range(n)])\n",
    "show(P_f + P_L + P_R)"
   ]
  },
  {
   "cell_type": "markdown",
   "metadata": {},
   "source": [
    "### Problem 2:\n",
    "The velocity a particular falling object with wind resistence is approximately $v(t) = 100(1 - e^{-0.1t})$ m/s.  The object falls for 50 seconds.  Use left and right approximations to calculate how far it fell for the following number of partitions.  Give yours answers in your lab report by telling me L, R, and posting the graph.\n",
    " \n",
    "(a) $n= 10$\n",
    "\n",
    "(b) $n = 100$\n",
    "\n",
    "(c) Find a value of $n$ such that $R$ and $L$ differ by less than $0.001$.  You don't need to to plot this one, just tell me the $n$ you used and your values of $L$ and $R$."
   ]
  },
  {
   "cell_type": "code",
   "execution_count": null,
   "metadata": {},
   "outputs": [],
   "source": []
  }
 ],
 "metadata": {
  "kernelspec": {
   "display_name": "SageMath 9.0",
   "language": "sage",
   "name": "sagemath"
  },
  "language_info": {
   "codemirror_mode": {
    "name": "ipython",
    "version": 3
   },
   "file_extension": ".py",
   "mimetype": "text/x-python",
   "name": "python",
   "nbconvert_exporter": "python",
   "pygments_lexer": "ipython3",
   "version": "3.7.3"
  }
 },
 "nbformat": 4,
 "nbformat_minor": 2
}
