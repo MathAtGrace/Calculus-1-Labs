{
 "cells": [
  {
   "cell_type": "code",
   "execution_count": 8,
   "metadata": {
    "collapsed": false
   },
   "outputs": [
    {
     "data": {
      "text/plain": [
       "37.1406926327793"
      ]
     },
     "execution_count": 8,
     "metadata": {
     },
     "output_type": "execute_result"
    }
   ],
   "source": [
    "#Ben Miller\n",
    "#question 1\n",
    "n(e^pi+2*(5+2))"
   ]
  },
  {
   "cell_type": "code",
   "execution_count": 10,
   "metadata": {
    "collapsed": false
   },
   "outputs": [
   ],
   "source": [
    "#Question 2\n",
    "f(x)=(2*x^2-6*x-5)/(x-3)"
   ]
  },
  {
   "cell_type": "code",
   "execution_count": 23,
   "metadata": {
    "collapsed": false
   },
   "outputs": [
    {
     "data": {
      "text/plain": [
       "2*(2*x - 3)/(x - 3) - (2*x^2 - 6*x - 5)/(x - 3)^2"
      ]
     },
     "execution_count": 23,
     "metadata": {
     },
     "output_type": "execute_result"
    }
   ],
   "source": [
    "f(x).derivative()"
   ]
  },
  {
   "cell_type": "code",
   "execution_count": 27,
   "metadata": {
    "collapsed": false
   },
   "outputs": [
   ],
   "source": [
    "#find_root(diff(f(x),x) == 0, 0, 1000)\n",
    "#find_root(diff(g,x) == 0, -1000, 0)\n",
    "#there are no critical points of this function and therefore no max or min"
   ]
  },
  {
   "cell_type": "code",
   "execution_count": 28,
   "metadata": {
    "collapsed": false
   },
   "outputs": [
    {
     "data": {
      "text/plain": [
       "[x == 3]"
      ]
     },
     "execution_count": 28,
     "metadata": {
     },
     "output_type": "execute_result"
    }
   ],
   "source": [
    "solve(1/f(x) == 0, x)"
   ]
  },
  {
   "cell_type": "code",
   "execution_count": 29,
   "metadata": {
    "collapsed": false
   },
   "outputs": [
   ],
   "source": [
    "#there is a vertical asmyptote at x=3"
   ]
  },
  {
   "cell_type": "code",
   "execution_count": 32,
   "metadata": {
    "collapsed": false
   },
   "outputs": [
    {
     "data": {
      "text/plain": [
       "[x == -1/2*sqrt(19) + 3/2, x == 1/2*sqrt(19) + 3/2]"
      ]
     },
     "execution_count": 32,
     "metadata": {
     },
     "output_type": "execute_result"
    }
   ],
   "source": [
    "solve(f(x) == 0, x)"
   ]
  },
  {
   "cell_type": "code",
   "execution_count": 33,
   "metadata": {
    "collapsed": false
   },
   "outputs": [
    {
     "data": {
      "text/plain": [
       "-0.679449471770337"
      ]
     },
     "execution_count": 33,
     "metadata": {
     },
     "output_type": "execute_result"
    }
   ],
   "source": [
    "n(-1/2*sqrt(19) + 3/2)"
   ]
  },
  {
   "cell_type": "code",
   "execution_count": 34,
   "metadata": {
    "collapsed": false
   },
   "outputs": [
    {
     "data": {
      "text/plain": [
       "3.67944947177034"
      ]
     },
     "execution_count": 34,
     "metadata": {
     },
     "output_type": "execute_result"
    }
   ],
   "source": [
    "n(1/2*sqrt(19) + 3/2)"
   ]
  },
  {
   "cell_type": "code",
   "execution_count": 35,
   "metadata": {
    "collapsed": false
   },
   "outputs": [
   ],
   "source": [
    "#the x intercepts are x=-0.679449471770337, and x=3.67944947177034"
   ]
  },
  {
   "cell_type": "code",
   "execution_count": 36,
   "metadata": {
    "collapsed": false
   },
   "outputs": [
    {
     "data": {
      "text/plain": [
       "5/3"
      ]
     },
     "execution_count": 36,
     "metadata": {
     },
     "output_type": "execute_result"
    }
   ],
   "source": [
    "f(0)"
   ]
  },
  {
   "cell_type": "code",
   "execution_count": 37,
   "metadata": {
    "collapsed": false
   },
   "outputs": [
   ],
   "source": [
    "#the y intercept is y=5/3"
   ]
  },
  {
   "cell_type": "code",
   "execution_count": 38,
   "metadata": {
    "collapsed": false
   },
   "outputs": [
    {
     "data": {
      "image/png": "[encoded data removed]",
      "text/plain": [
       "Graphics object consisting of 1 graphics primitive"
      ]
     },
     "execution_count": 38,
     "metadata": {
     },
     "output_type": "execute_result"
    }
   ],
   "source": [
    "plot(f(x), (-50,50)).show(ymax=50, ymin=-50)"
   ]
  },
  {
   "cell_type": "code",
   "execution_count": 39,
   "metadata": {
    "collapsed": false
   },
   "outputs": [
   ],
   "source": [
    "#question 3"
   ]
  },
  {
   "cell_type": "code",
   "execution_count": 83,
   "metadata": {
    "collapsed": false
   },
   "outputs": [
   ],
   "source": [
    "g(x)=cos(x)*e^(-x^2)"
   ]
  },
  {
   "cell_type": "code",
   "execution_count": 84,
   "metadata": {
    "collapsed": false
   },
   "outputs": [
    {
     "data": {
      "image/png": "[encoded data removed]",
      "text/plain": [
       "Graphics object consisting of 1 graphics primitive"
      ]
     },
     "execution_count": 84,
     "metadata": {
     },
     "output_type": "execute_result"
    }
   ],
   "source": [
    "plot(g(x),(-10,10)).show(ymax=5)"
   ]
  },
  {
   "cell_type": "code",
   "execution_count": 97,
   "metadata": {
    "collapsed": false
   },
   "outputs": [
   ],
   "source": [
    "def g(x): return cos(x)*e^(-x^2)\n",
    "a=1\n",
    "b=5\n",
    "n = 100"
   ]
  },
  {
   "cell_type": "code",
   "execution_count": 98,
   "metadata": {
    "collapsed": false
   },
   "outputs": [
    {
     "name": "stdout",
     "output_type": "stream",
     "text": [
      "[0, 1, 2, 3, 4, 5, 6, 7, 8, 9, 10, 11, 12, 13, 14, 15, 16, 17, 18, 19, 20, 21, 22, 23, 24, 25, 26, 27, 28, 29, 30, 31, 32, 33, 34, 35, 36, 37, 38, 39, 40, 41, 42, 43, 44, 45, 46, 47, 48, 49, 50, 51, 52, 53, 54, 55, 56, 57, 58, 59, 60, 61, 62, 63, 64, 65, 66, 67, 68, 69, 70, 71, 72, 73, 74, 75, 76, 77, 78, 79, 80, 81, 82, 83, 84, 85, 86, 87, 88, 89, 90, 91, 92, 93, 94, 95, 96, 97, 98, 99]\n",
      "[1, 3/2, 2, 5/2, 3, 7/2, 4, 9/2, 5, 11/2, 6, 13/2, 7, 15/2, 8, 17/2, 9, 19/2, 10, 21/2, 11, 23/2, 12, 25/2, 13, 27/2, 14, 29/2, 15, 31/2, 16, 33/2, 17, 35/2, 18, 37/2, 19, 39/2, 20, 41/2, 21, 43/2, 22, 45/2, 23, 47/2, 24, 49/2, 25, 51/2, 26, 53/2, 27, 55/2, 28, 57/2, 29, 59/2, 30, 61/2, 31, 63/2, 32, 65/2, 33, 67/2, 34, 69/2, 35, 71/2, 36, 73/2, 37, 75/2, 38, 77/2, 39, 79/2, 40, 81/2, 41, 83/2, 42, 85/2, 43, 87/2, 44, 89/2, 45, 91/2, 46, 93/2, 47, 95/2, 48, 97/2, 49, 99/2, 50, 101/2]\n"
     ]
    }
   ],
   "source": [
    "print([i for i in range(n)])\n",
    "print([i/2 + 1 for i in range(n)])"
   ]
  },
  {
   "cell_type": "code",
   "execution_count": 99,
   "metadata": {
    "collapsed": false
   },
   "outputs": [
    {
     "name": "stdout",
     "output_type": "stream",
     "text": [
      "[1, 26/25, 27/25, 28/25, 29/25, 6/5, 31/25, 32/25, 33/25, 34/25, 7/5, 36/25, 37/25, 38/25, 39/25, 8/5, 41/25, 42/25, 43/25, 44/25, 9/5, 46/25, 47/25, 48/25, 49/25, 2, 51/25, 52/25, 53/25, 54/25, 11/5, 56/25, 57/25, 58/25, 59/25, 12/5, 61/25, 62/25, 63/25, 64/25, 13/5, 66/25, 67/25, 68/25, 69/25, 14/5, 71/25, 72/25, 73/25, 74/25, 3, 76/25, 77/25, 78/25, 79/25, 16/5, 81/25, 82/25, 83/25, 84/25, 17/5, 86/25, 87/25, 88/25, 89/25, 18/5, 91/25, 92/25, 93/25, 94/25, 19/5, 96/25, 97/25, 98/25, 99/25, 4, 101/25, 102/25, 103/25, 104/25, 21/5, 106/25, 107/25, 108/25, 109/25, 22/5, 111/25, 112/25, 113/25, 114/25, 23/5, 116/25, 117/25, 118/25, 119/25, 24/5, 121/25, 122/25, 123/25, 124/25, 5]\n"
     ]
    }
   ],
   "source": [
    "x_n = [a + (b-a)/n*i for i in range(n+1)]\n",
    "print(x_n)"
   ]
  },
  {
   "cell_type": "code",
   "execution_count": 100,
   "metadata": {
    "collapsed": false
   },
   "outputs": [
    {
     "name": "stdout",
     "output_type": "stream",
     "text": [
      "[0.198766110346413, 0.171635298059788, 0.146812316857729, 0.124277086815526, 0.103981396769993, 0.0858526106092449, 0.0697974983373062, 0.0557060869632120, 0.0434554363981349, 0.0329132575783324, 0.0239413033573896, 0.0163984767339922, 0.0101436151442419, 0.00503792334937608, 0.000947040460148846, -0.00225726149256947, -0.00469573957095704, -0.00648068578484398, -0.00771525285934562, -0.00849307050956210, -0.00889811900283019, -0.00900482453883451, -0.00887834014607166, -0.00857497620240622, -0.00814274613994744, -0.00762199518288655, -0.00704608288423691, -0.00644209357520464, -0.00583155243607461, -0.00523112857718936, -0.00465331014356115, -0.00410703991294440, -0.00359830305652836, -0.00313066161036370, -0.00270573272387713, -0.00232360988966206, -0.00198322811418592, -0.00168267537472325, -0.00141945374765137, -0.00119069431943031, -0.000993330441696020, -0.000824234106310649, -0.000680320235953846, -0.000558623550785691, -0.000456352419234044, -0.000370923764934813, -0.000299982712039365, -0.000241410232816423, -0.000193321635533923, -0.000154058313476336, -0.000122174780052744, -0.0000964226490611852, -0.0000757328889135960, -0.0000591973879530777, -0.0000460506157153645, -0.0000356519512259880, -0.0000274690720709682, -0.0000210626540662000, -0.0000160725173904158, -0.0000122052672987625, -9.22341222260668e-6, -6.93589553680049e-6, -5.18994613146826e-6, -3.86413407278593e-6, -2.86250834791475e-6, -2.10969161066775e-6, -1.54680999477459e-6, -1.12814280976029e-6, -8.18385970530028e-7, -5.90433311257880e-7, -4.23590719808116e-7, -3.02148732202803e-7, -2.14249451295721e-7, -1.50993141962738e-7, -1.05738457275419e-7, -7.35578990780157e-8, -5.08168052031925e-8, -3.48499194603671e-8, -2.37145023597288e-8, -1.60030594316718e-8, -1.07021868159030e-8, -7.08684883626023e-9, -4.64169496027120e-9, -3.00287354553088e-9, -1.91527937491887e-9, -1.20134526757157e-9, -7.38410770162629e-10, -4.42420776654706e-10, -2.56264099151123e-10, -1.41489961308327e-10, -7.24665900972302e-11, -3.22928681898483e-11, -9.95932445195542e-12, 1.60713538272926e-12, 6.87816737006145e-12, 8.62696715114811e-12, 8.53296582557051e-12, 7.58236485766128e-12, 6.33023902267403e-12, 5.06971894392175e-12, 3.93948450832630e-12]\n"
     ]
    }
   ],
   "source": [
    "gx_n = [g(i).n() for i in x_n]\n",
    "print(gx_n)"
   ]
  },
  {
   "cell_type": "code",
   "execution_count": 101,
   "metadata": {
    "collapsed": false
   },
   "outputs": [
    {
     "name": "stdout",
     "output_type": "stream",
     "text": [
      "Left Approximation:  0.0380894635026723\n",
      "Right Approximation:  0.0301388190889734\n"
     ]
    }
   ],
   "source": [
    "L = (b-a)/n * sum(gx_n[:-1])\n",
    "R = (b-a)/n * sum(gx_n[1:])\n",
    "print(\"Left Approximation: \", L)\n",
    "print(\"Right Approximation: \", R)"
   ]
  },
  {
   "cell_type": "code",
   "execution_count": 0,
   "metadata": {
    "collapsed": false
   },
   "outputs": [
   ],
   "source": [
   ]
  }
 ],
 "metadata": {
  "kernelspec": {
   "display_name": "SageMath 9.1",
   "language": "sagemath",
   "metadata": {
    "cocalc": {
     "description": "Open-source mathematical software system",
     "priority": 10,
     "url": "https://www.sagemath.org/"
    }
   },
   "name": "sage-9.1"
  },
  "language_info": {
   "codemirror_mode": {
    "name": "ipython",
    "version": 3
   },
   "file_extension": ".py",
   "mimetype": "text/x-python",
   "name": "python",
   "nbconvert_exporter": "python",
   "pygments_lexer": "ipython3",
   "version": "3.7.3"
  }
 },
 "nbformat": 4,
 "nbformat_minor": 4
}